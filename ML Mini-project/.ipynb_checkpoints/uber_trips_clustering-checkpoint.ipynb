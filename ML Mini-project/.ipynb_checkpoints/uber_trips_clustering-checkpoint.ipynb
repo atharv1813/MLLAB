{
 "cells": [
  {
   "cell_type": "code",
   "execution_count": null,
   "metadata": {
    "id": "DoA5L7_1lUE3"
   },
   "outputs": [],
   "source": [
    "import numpy as np\n",
    "import pandas as pd\n",
    "import matplotlib.pyplot as plt\n",
    "from sklearn import metrics\n",
    "import seaborn as sns\n",
    "import matplotlib.pyplot as plt"
   ]
  },
  {
   "cell_type": "code",
   "execution_count": null,
   "metadata": {
    "colab": {
     "base_uri": "https://localhost:8080/"
    },
    "id": "838_6exPleGg",
    "outputId": "07e384a1-ebbb-4fd0-aad1-9a13565304b8"
   },
   "outputs": [],
   "source": [
    "data = pd.read_csv(\"uber-data.csv\")\n",
    "data.shape"
   ]
  },
  {
   "cell_type": "code",
   "execution_count": null,
   "metadata": {
    "id": "kcBB4zwuleIt"
   },
   "outputs": [],
   "source": [
    "#data = data.sample(n=1000, random_state=5)data = data.sample(n=1000, random_state=5)\n",
    "#sampled_indices = np.array(data.index)"
   ]
  },
  {
   "cell_type": "code",
   "execution_count": null,
   "metadata": {
    "colab": {
     "base_uri": "https://localhost:8080/",
     "height": 206
    },
    "id": "5X3-hxKileKj",
    "outputId": "293cf055-d1c5-43c5-dc36-92e9b66a990c"
   },
   "outputs": [],
   "source": [
    "pd.set_option('display.max_rows', None)\n",
    "pd.set_option('display.max_columns', None)\n",
    "pd.options.display.float_format = '{:.2f}'.format\n",
    "data.head()"
   ]
  },
  {
   "cell_type": "code",
   "execution_count": null,
   "metadata": {
    "colab": {
     "base_uri": "https://localhost:8080/"
    },
    "id": "RHdu_cj5leM-",
    "outputId": "b3443874-fb9a-4e9a-89f5-90124398e7ac"
   },
   "outputs": [],
   "source": [
    "for column in data.columns:\n",
    "    if data[column].dtype=='object':\n",
    "        uniques = data[column].unique()\n",
    "        print(f\"Column {column} has {len(uniques)} number of unique values\")\n",
    "        print(uniques)\n",
    "        print(\"\\n\")\n",
    "    else:\n",
    "        min_value = data[column].min()\n",
    "        max_value = data[column].max()\n",
    "        print(f\"Column {column} has values in range {min_value} to {max_value}\")\n",
    "        print(\"\\n\")"
   ]
  },
  {
   "cell_type": "code",
   "execution_count": null,
   "metadata": {
    "colab": {
     "base_uri": "https://localhost:8080/"
    },
    "id": "YdFs9N8tlpep",
    "outputId": "2293d738-a363-497e-99c6-848d8f3117b7"
   },
   "outputs": [],
   "source": [
    "for column in data.columns:\n",
    "    print(column, data[column].isnull().sum())"
   ]
  },
  {
   "cell_type": "code",
   "execution_count": null,
   "metadata": {
    "colab": {
     "base_uri": "https://localhost:8080/",
     "height": 206
    },
    "id": "Kjsa2sBvlePB",
    "outputId": "9ea90b0d-0e98-4b22-817d-313f3c380324"
   },
   "outputs": [],
   "source": [
    "data = pd.DataFrame(data)\n",
    "\n",
    "data['Date/Time'] = pd.to_datetime(data['Date/Time'])\n",
    "\n",
    "data['day_of_month'] = data['Date/Time'].dt.day\n",
    "data['hour'] = data['Date/Time'].dt.hour\n",
    "\n",
    "data.head()"
   ]
  },
  {
   "cell_type": "code",
   "execution_count": null,
   "metadata": {
    "colab": {
     "base_uri": "https://localhost:8080/",
     "height": 206
    },
    "id": "HWo14IoYleRU",
    "outputId": "ac519a56-4025-4671-a9a1-bd08ff9d70fd"
   },
   "outputs": [],
   "source": [
    "data=data.drop(\"Date/Time\", axis=1)\n",
    "data.head()"
   ]
  },
  {
   "cell_type": "code",
   "execution_count": null,
   "metadata": {
    "colab": {
     "base_uri": "https://localhost:8080/"
    },
    "id": "Mj9pMGXAleTj",
    "outputId": "53e19fe6-5da7-4f11-b30f-257e8454d768"
   },
   "outputs": [],
   "source": [
    "mean = data['Lat'].mean()\n",
    "std = data[\"Lat\"].std()\n",
    "print(\"Mean:\", mean)\n",
    "print(\"Standard Deviation:\", std)\n"
   ]
  },
  {
   "cell_type": "code",
   "execution_count": null,
   "metadata": {
    "colab": {
     "base_uri": "https://localhost:8080/"
    },
    "id": "Fl5fft_WleVz",
    "outputId": "def5a4b5-e024-40e8-ced5-43cd6ae03df7"
   },
   "outputs": [],
   "source": [
    "mean = data['Lon'].mean()\n",
    "std = data[\"Lon\"].std()\n",
    "print(\"Mean:\", mean)\n",
    "print(\"Standard Deviation:\", std)"
   ]
  },
  {
   "cell_type": "code",
   "execution_count": null,
   "metadata": {
    "colab": {
     "base_uri": "https://localhost:8080/",
     "height": 449
    },
    "id": "B8qQRvWJleZX",
    "outputId": "ed94b9ca-d4a9-48a6-e0ea-12c338c029c1"
   },
   "outputs": [],
   "source": [
    "sns.histplot(data['Lat'], kde=True)\n",
    "plt.show()"
   ]
  },
  {
   "cell_type": "code",
   "execution_count": null,
   "metadata": {
    "colab": {
     "base_uri": "https://localhost:8080/",
     "height": 449
    },
    "id": "BtgCxWbmsph4",
    "outputId": "dff1c00c-db45-4905-8d58-df9fe15c6813"
   },
   "outputs": [],
   "source": [
    "sns.histplot(data['Lon'], kde=True)\n",
    "plt.show()"
   ]
  },
  {
   "cell_type": "code",
   "execution_count": null,
   "metadata": {
    "colab": {
     "base_uri": "https://localhost:8080/"
    },
    "id": "AS1gbv-gs7Qv",
    "outputId": "e2dfeb6f-2d49-4d1a-a228-fc0da36c64ad"
   },
   "outputs": [],
   "source": [
    "def remove_outliers_iqr(df, column_name):\n",
    "    Q1 = df[column_name].quantile(0.25)\n",
    "    Q3 = df[column_name].quantile(0.75)\n",
    "    IQR = Q3 - Q1\n",
    "    lower_bound = Q1 - 1.5 * IQR\n",
    "    upper_bound = Q3 + 1.5 * IQR\n",
    "    df_filtered = df[(df[column_name] >= lower_bound) & (df[column_name] <= upper_bound)]\n",
    "    return df_filtered\n",
    "\n",
    "data = remove_outliers_iqr(data, 'Lat')\n",
    "data = remove_outliers_iqr(data, 'Lon')\n",
    "\n",
    "data.shape"
   ]
  },
  {
   "cell_type": "code",
   "execution_count": null,
   "metadata": {
    "colab": {
     "base_uri": "https://localhost:8080/",
     "height": 206
    },
    "id": "KPAJVVVbtT55",
    "outputId": "80982c21-91bb-4777-88b6-96e3883d2ac7"
   },
   "outputs": [],
   "source": [
    "data.head()"
   ]
  },
  {
   "cell_type": "code",
   "execution_count": null,
   "metadata": {
    "colab": {
     "base_uri": "https://localhost:8080/"
    },
    "id": "DxjWFAWmtp7_",
    "outputId": "e4c67fce-95a5-4c34-a965-51527a9ccd25"
   },
   "outputs": [],
   "source": [
    "count_duplicates = data.duplicated().sum()\n",
    "print(f\"Number of duplicated rows: {count_duplicates}\")"
   ]
  },
  {
   "cell_type": "code",
   "execution_count": null,
   "metadata": {
    "colab": {
     "base_uri": "https://localhost:8080/"
    },
    "id": "NULl8zQPu1fp",
    "outputId": "45763222-0877-40cb-cadf-db2a5304787a"
   },
   "outputs": [],
   "source": [
    "data = data.drop_duplicates()\n",
    "data.shape"
   ]
  },
  {
   "cell_type": "code",
   "execution_count": null,
   "metadata": {
    "colab": {
     "base_uri": "https://localhost:8080/",
     "height": 472
    },
    "id": "VX0CNozsvBy5",
    "outputId": "491c5968-ba78-4c3f-fcf8-f9cac278adbd"
   },
   "outputs": [],
   "source": [
    "import matplotlib.pyplot as plt\n",
    "\n",
    "plt.hist(data['hour'], bins=24, rwidth=0.4)\n",
    "plt.xlabel('Hour of Day')\n",
    "plt.ylabel('Number of Trips')\n",
    "plt.title('Distribution of Uber Trips Over Time')\n",
    "plt.show()"
   ]
  },
  {
   "cell_type": "code",
   "execution_count": null,
   "metadata": {
    "colab": {
     "base_uri": "https://localhost:8080/",
     "height": 472
    },
    "id": "hHhZyzj2vkkY",
    "outputId": "fa864496-5be7-4ea6-b1d7-a4145037f95e"
   },
   "outputs": [],
   "source": [
    "import matplotlib.pyplot as plt\n",
    "\n",
    "plt.hist(data['day_of_month'], bins=24, rwidth=0.4)\n",
    "plt.xlabel('Day of the Month')\n",
    "plt.ylabel('Number of Trips')\n",
    "plt.title('Distribution of Uber Trips Over Days')\n",
    "plt.show()\n"
   ]
  },
  {
   "cell_type": "code",
   "execution_count": null,
   "metadata": {
    "colab": {
     "base_uri": "https://localhost:8080/",
     "height": 564
    },
    "id": "LKUZNZuGFVAT",
    "outputId": "ec4d68c3-d976-46ab-88af-d0533f7dd5b6"
   },
   "outputs": [],
   "source": [
    "plt.figure(figsize=(8, 6))\n",
    "sns.boxplot(x=data['hour'], color='skyblue')\n",
    "plt.title('Box Plot for hour')\n",
    "plt.show()"
   ]
  },
  {
   "cell_type": "code",
   "execution_count": null,
   "metadata": {
    "colab": {
     "base_uri": "https://localhost:8080/",
     "height": 564
    },
    "id": "vfQY_ybMFmnm",
    "outputId": "797d4606-b137-43e9-cb05-673a725cc359"
   },
   "outputs": [],
   "source": [
    "plt.figure(figsize=(8, 6))\n",
    "sns.boxplot(x=data['day_of_month'], color='skyblue')\n",
    "plt.title('Box Plot for hour')\n",
    "plt.show()"
   ]
  },
  {
   "cell_type": "code",
   "execution_count": null,
   "metadata": {
    "colab": {
     "base_uri": "https://localhost:8080/",
     "height": 564
    },
    "id": "7U9ewzd_Fmp9",
    "outputId": "c5ab375c-f450-4cb8-8136-8e3d508898f6"
   },
   "outputs": [],
   "source": [
    "plt.figure(figsize=(8, 6))\n",
    "sns.boxplot(x=data['Lat'], color='skyblue')\n",
    "plt.title('Box Plot for hour')\n",
    "plt.show()"
   ]
  },
  {
   "cell_type": "code",
   "execution_count": null,
   "metadata": {
    "colab": {
     "base_uri": "https://localhost:8080/",
     "height": 564
    },
    "id": "mf8hDC2AFmtb",
    "outputId": "304e1456-b41b-4507-e6bf-75acb4c653dc"
   },
   "outputs": [],
   "source": [
    "plt.figure(figsize=(8, 6))\n",
    "sns.boxplot(x=data['Lon'], color='skyblue')\n",
    "plt.title('Box Plot for hour')\n",
    "plt.show()"
   ]
  },
  {
   "cell_type": "code",
   "execution_count": null,
   "metadata": {
    "colab": {
     "base_uri": "https://localhost:8080/",
     "height": 564
    },
    "id": "IuPwghBTvpbn",
    "outputId": "3dbe3b57-7fd2-4dd0-ab6d-fa56f4b0c111"
   },
   "outputs": [],
   "source": [
    "import seaborn as sns\n",
    "import matplotlib.pyplot as plt\n",
    "\n",
    "plt.figure(figsize=(10, 6))\n",
    "sns.boxplot(x='day_of_month', y='hour', data=data, palette='viridis')\n",
    "plt.xlabel('Day of the Week')\n",
    "plt.ylabel('Hour of Day')\n",
    "plt.title('Box Plot of Uber Trips by Day of the Week and Hour of the Day')\n",
    "plt.show()"
   ]
  },
  {
   "cell_type": "code",
   "execution_count": null,
   "metadata": {
    "colab": {
     "base_uri": "https://localhost:8080/",
     "height": 472
    },
    "id": "VwgZeecbwXqm",
    "outputId": "117569b0-9fa0-4f57-949e-324ebf59f5bd"
   },
   "outputs": [],
   "source": [
    "import matplotlib.pyplot as plt\n",
    "\n",
    "hourly_counts = data['hour'].value_counts().sort_index()\n",
    "\n",
    "plt.plot(hourly_counts.index, hourly_counts.values)\n",
    "plt.xlabel('Hour of Day')\n",
    "plt.ylabel('Number of Trips')\n",
    "plt.title('Hourly Distribution of Uber Trips')\n",
    "plt.grid(True)\n",
    "plt.show()"
   ]
  },
  {
   "cell_type": "code",
   "execution_count": null,
   "metadata": {
    "colab": {
     "base_uri": "https://localhost:8080/",
     "height": 472
    },
    "id": "mSxBAZbWGWlO",
    "outputId": "65f71a6a-ec0f-4906-ba9d-973dc802c65f"
   },
   "outputs": [],
   "source": [
    "import matplotlib.pyplot as plt\n",
    "\n",
    "hourly_counts = data['day_of_month'].value_counts().sort_index()\n",
    "\n",
    "plt.plot(hourly_counts.index, hourly_counts.values)\n",
    "plt.xlabel('day of month')\n",
    "plt.ylabel('Number of Trips')\n",
    "plt.title('Monthly Distribution of Uber Trips')\n",
    "plt.grid(True)\n",
    "plt.show()\n"
   ]
  },
  {
   "cell_type": "code",
   "execution_count": null,
   "metadata": {
    "colab": {
     "base_uri": "https://localhost:8080/"
    },
    "id": "BovsHLGrGwAH",
    "outputId": "ab5441b6-4b93-42c7-c801-ae29b770fef5"
   },
   "outputs": [],
   "source": [
    "for column in data.columns:\n",
    "    if data[column].dtype=='object':\n",
    "        uniques = data[column].unique()\n",
    "        print(f\"Column {column} has {len(uniques)} number of unique values\")\n",
    "        print(uniques)\n",
    "        print(\"\\n\")\n",
    "    else:\n",
    "        min_value = data[column].min()\n",
    "        max_value = data[column].max()\n",
    "        print(f\"Column {column} has values in range {min_value} to {max_value}\")\n",
    "        print(\"\\n\")"
   ]
  },
  {
   "cell_type": "code",
   "execution_count": null,
   "metadata": {
    "colab": {
     "base_uri": "https://localhost:8080/",
     "height": 807
    },
    "id": "6TaJiaBfHnty",
    "outputId": "2b37b452-5f60-4ca4-f388-8e036ecfda56"
   },
   "outputs": [],
   "source": [
    "import matplotlib.pyplot as plt\n",
    "\n",
    "unique_bases = ['B02512', 'B02598', 'B02617', 'B02682', 'B02764']\n",
    "\n",
    "plt.figure(figsize=(12, 8))\n",
    "\n",
    "for base in unique_bases:\n",
    "    plt.subplot(2, 3, unique_bases.index(base) + 1)\n",
    "    plt.hist(data[data['Base'] == base]['Lon'], bins=20, alpha=0.7)\n",
    "    plt.title(f'Distribution of Lon for {base}')\n",
    "    plt.xlabel('Longitude')\n",
    "    plt.ylabel('Frequency')\n",
    "\n",
    "plt.tight_layout()\n",
    "plt.show()\n"
   ]
  },
  {
   "cell_type": "code",
   "execution_count": null,
   "metadata": {
    "colab": {
     "base_uri": "https://localhost:8080/",
     "height": 807
    },
    "id": "oqpz0JhAK4jF",
    "outputId": "eecf2840-3e05-46d9-bbf2-9de561ff2bcf"
   },
   "outputs": [],
   "source": [
    "import matplotlib.pyplot as plt\n",
    "\n",
    "unique_bases = ['B02512', 'B02598', 'B02617', 'B02682', 'B02764']\n",
    "\n",
    "plt.figure(figsize=(12, 8))\n",
    "\n",
    "for base in unique_bases:\n",
    "    plt.subplot(2, 3, unique_bases.index(base) + 1)\n",
    "    plt.hist(data[data['Base'] == base]['hour'], bins=20, alpha=0.7)\n",
    "    plt.title(f'Distribution of hours for {base}')\n",
    "    plt.xlabel('Hour')\n",
    "    plt.ylabel('Frequency')\n",
    "\n",
    "plt.tight_layout()\n",
    "plt.show()\n"
   ]
  },
  {
   "cell_type": "code",
   "execution_count": null,
   "metadata": {
    "colab": {
     "base_uri": "https://localhost:8080/",
     "height": 807
    },
    "id": "16EUCdIDLJ1a",
    "outputId": "fef95b13-227d-4d76-e0f6-c2c4c96a36b5"
   },
   "outputs": [],
   "source": [
    "import matplotlib.pyplot as plt\n",
    "\n",
    "unique_bases = ['B02512', 'B02598', 'B02617', 'B02682', 'B02764']\n",
    "\n",
    "plt.figure(figsize=(12, 8))\n",
    "\n",
    "for base in unique_bases:\n",
    "    plt.subplot(2, 3, unique_bases.index(base) + 1)\n",
    "    plt.hist(data[data['Base'] == base]['day_of_month'], bins=20, alpha=0.7)\n",
    "    plt.title(f'Distribution of Day of month for {base}')\n",
    "    plt.xlabel('Longitude')\n",
    "    plt.ylabel('Frequency')\n",
    "\n",
    "plt.tight_layout()\n",
    "plt.show()\n"
   ]
  },
  {
   "cell_type": "code",
   "execution_count": null,
   "metadata": {
    "colab": {
     "base_uri": "https://localhost:8080/",
     "height": 206
    },
    "id": "cWtvXliZO9uH",
    "outputId": "bbeba1de-b91c-42db-c018-0872f0eba473"
   },
   "outputs": [],
   "source": [
    "datafinal = pd.get_dummies(data, columns=['Base'], prefix=['Base'])\n",
    "datafinal.head()"
   ]
  },
  {
   "cell_type": "code",
   "execution_count": null,
   "metadata": {
    "colab": {
     "base_uri": "https://localhost:8080/"
    },
    "id": "DH4PgHe1PWxm",
    "outputId": "db4422e6-e31a-41ac-de37-47d0d90e1b9e"
   },
   "outputs": [],
   "source": [
    "from sklearn.preprocessing import StandardScaler\n",
    "\n",
    "scaler = StandardScaler()\n",
    "datafinal2 = scaler.fit_transform(datafinal)\n",
    "datafinal2.shape[0]"
   ]
  },
  {
   "cell_type": "code",
   "execution_count": null,
   "metadata": {
    "colab": {
     "base_uri": "https://localhost:8080/"
    },
    "id": "tbq7pRGILSpy",
    "outputId": "09632773-bf1f-4b10-c9ba-654b70d08c20"
   },
   "outputs": [],
   "source": [
    "from sklearn.cluster import KMeans\n",
    "\n",
    "kmeans = KMeans(n_clusters=10, random_state=0).fit(datafinal2)\n",
    "clusters=kmeans.labels_"
   ]
  },
  {
   "cell_type": "code",
   "execution_count": null,
   "metadata": {
    "colab": {
     "base_uri": "https://localhost:8080/"
    },
    "id": "7r43d8LDOy6t",
    "outputId": "4abb2572-cb50-49d7-b733-2d476bea43d1"
   },
   "outputs": [],
   "source": [
    "clusters.size"
   ]
  },
  {
   "cell_type": "code",
   "execution_count": null,
   "metadata": {
    "colab": {
     "base_uri": "https://localhost:8080/"
    },
    "id": "Q73OGDVRQE-S",
    "outputId": "fa9eabc3-86e3-47e9-a7ab-e3f278376321"
   },
   "outputs": [],
   "source": [
    "clusters"
   ]
  },
  {
   "cell_type": "code",
   "execution_count": null,
   "metadata": {
    "colab": {
     "base_uri": "https://localhost:8080/"
    },
    "id": "Z6EO1YjiQVbu",
    "outputId": "d935f068-8677-458a-c59f-92dbeafe66f5"
   },
   "outputs": [],
   "source": [
    "cluster_counts = {}\n",
    "\n",
    "for label in clusters:\n",
    "    if label in cluster_counts:\n",
    "        cluster_counts[label] += 1\n",
    "    else:\n",
    "        cluster_counts[label] = 1\n",
    "\n",
    "\n",
    "sorted_cluster_counts = sorted(cluster_counts.items(), key=lambda x: x[0])\n",
    "\n",
    "for label, count in sorted_cluster_counts:\n",
    "    print(f\"For label: {label} total count is {count}\")\n",
    "\n"
   ]
  },
  {
   "cell_type": "code",
   "execution_count": null,
   "metadata": {
    "colab": {
     "base_uri": "https://localhost:8080/",
     "height": 472
    },
    "id": "WmINR3DVRpqc",
    "outputId": "3c9231c1-dc3b-450d-ef75-b0e5e93d6ce3"
   },
   "outputs": [],
   "source": [
    "unique_values, counts = np.unique(clusters, return_counts=True)\n",
    "plt.bar(unique_values, counts)\n",
    "\n",
    "plt.xlabel('Unique Values')\n",
    "plt.ylabel('Frequency')\n",
    "plt.title('Bar Plot of Unique Values')\n",
    "\n",
    "plt.show()"
   ]
  },
  {
   "cell_type": "code",
   "execution_count": null,
   "metadata": {
    "colab": {
     "base_uri": "https://localhost:8080/",
     "height": 807
    },
    "id": "vLeAP1WkTSWg",
    "outputId": "068977ef-2a07-47c0-e9c2-786d5e1f6cc9"
   },
   "outputs": [],
   "source": [
    "import matplotlib.pyplot as plt\n",
    "import pandas as pd\n",
    "from sklearn.cluster import KMeans\n",
    "\n",
    "n_clusters = 10\n",
    "kmeans = KMeans(n_clusters=n_clusters, random_state=0)\n",
    "datafinal['Cluster'] = kmeans.fit_predict(datafinal[['Lat', 'Lon']])\n",
    "\n",
    "cluster_centers = kmeans.cluster_centers_\n",
    "\n",
    "plt.figure(figsize=(10, 8))\n",
    "\n",
    "for cluster in range(n_clusters):\n",
    "    cluster_data = datafinal[datafinal['Cluster'] == cluster]\n",
    "    plt.scatter(cluster_data['Lon'], cluster_data['Lat'], label=f'Cluster {cluster}', alpha=0.6)\n",
    "\n",
    "plt.scatter(cluster_centers[:, 1], cluster_centers[:, 0], c='red', marker='x', s=100, label='Cluster Centers')\n",
    "\n",
    "plt.xlabel('Longitude')\n",
    "plt.ylabel('Latitude')\n",
    "plt.title('Clusters of Uber Trips with Cluster Centers')\n",
    "plt.legend()\n",
    "plt.grid(True)\n",
    "plt.show()\n"
   ]
  },
  {
   "cell_type": "code",
   "execution_count": null,
   "metadata": {
    "colab": {
     "base_uri": "https://localhost:8080/"
    },
    "id": "SeJv0gQGObjz",
    "outputId": "8d96926c-1bfc-402c-8524-e959f4cc0880"
   },
   "outputs": [],
   "source": [
    "np.random.seed(7)\n",
    "\n",
    "datafinal3 = np.random.choice(datafinal2.shape[0], size=10000, replace=False)\n",
    "sampled_data = datafinal2[datafinal3, :]\n",
    "sampled_data.shape"
   ]
  },
  {
   "cell_type": "code",
   "execution_count": null,
   "metadata": {
    "id": "evCWjaIMOVV4"
   },
   "outputs": [],
   "source": []
  },
  {
   "cell_type": "code",
   "execution_count": null,
   "metadata": {
    "colab": {
     "base_uri": "https://localhost:8080/",
     "height": 718
    },
    "id": "DskyXmJmVI9f",
    "outputId": "1e3a856b-62f1-4ed8-d02f-bdda1de532a7"
   },
   "outputs": [],
   "source": [
    "from sklearn.cluster import KMeans\n",
    "from sklearn.metrics import silhouette_score\n",
    "import numpy as np\n",
    "import matplotlib.pyplot as plt\n",
    "\n",
    "n_clusters_range = range(5, 11)\n",
    "\n",
    "best_n = None\n",
    "max_silhouette = -1\n",
    "silhouette_scores = []\n",
    "\n",
    "for n_clusters in n_clusters_range:\n",
    "    kmeans = KMeans(n_clusters=n_clusters, random_state=0).fit(sampled_data)\n",
    "    clusters = kmeans.labels_\n",
    "\n",
    "    silhouette_avg = silhouette_score(sampled_data, clusters)\n",
    "    silhouette_scores.append(silhouette_avg)\n",
    "\n",
    "    if silhouette_avg > max_silhouette:\n",
    "        max_silhouette = silhouette_avg\n",
    "        best_n = n_clusters\n",
    "\n",
    "plt.plot(n_clusters_range, silhouette_scores, marker='o')\n",
    "plt.title('Silhouette Score vs Number of Clusters')\n",
    "plt.xlabel('Number of Clusters')\n",
    "plt.ylabel('Silhouette Score')\n",
    "plt.show()\n",
    "\n",
    "print(f\"Best number of clusters (max silhouette score): {best_n}\")"
   ]
  },
  {
   "cell_type": "code",
   "execution_count": null,
   "metadata": {},
   "outputs": [],
   "source": [
    "from sklearn.cluster import DBSCAN\n",
    "from sklearn.metrics import silhouette_score\n",
    "import matplotlib.pyplot as plt\n",
    "\n",
    "features = sampled_data[:, 1:] \n",
    "\n",
    "dbscan = DBSCAN(eps=2.0, min_samples=7)  \n",
    "cluster_labels = dbscan.fit_predict(features)\n",
    "\n",
    "sampled_data_with_labels = np.column_stack((sampled_data, cluster_labels))\n",
    "\n",
    "plt.scatter(sampled_data[:, 0], sampled_data[:, 1], c=cluster_labels, cmap='viridis')\n",
    "plt.title('DBSCAN Clustering')\n",
    "plt.show()\n",
    "\n",
    "silhouette_avg = silhouette_score(features, cluster_labels)\n",
    "print(f\"Silhouette Score: {silhouette_avg}\")"
   ]
  },
  {
   "cell_type": "code",
   "execution_count": null,
   "metadata": {},
   "outputs": [],
   "source": [
    "plt.hist(cluster_labels, bins='auto', rwidth=0.8, color='#607c8e')\n",
    "plt.title('Histogram of Cluster Labels')\n",
    "plt.xlabel('Cluster Labels')\n",
    "plt.ylabel('Frequency')\n",
    "plt.show()"
   ]
  },
  {
   "cell_type": "code",
   "execution_count": null,
   "metadata": {
    "scrolled": true
   },
   "outputs": [],
   "source": [
    "import numpy as np\n",
    "from sklearn.cluster import AgglomerativeClustering\n",
    "from sklearn.metrics import silhouette_score\n",
    "import matplotlib.pyplot as plt\n",
    "\n",
    "features = sampled_data[:, 1:] \n",
    "\n",
    "agg_clustering = AgglomerativeClustering(n_clusters=5)  \n",
    "cluster_labels_agg = agg_clustering.fit_predict(features)\n",
    "\n",
    "sampled_data_with_labels_agg = np.column_stack((sampled_data, cluster_labels_agg))\n",
    "\n",
    "plt.scatter(sampled_data[:, 0], sampled_data[:, 1], c=cluster_labels_agg, cmap='viridis')\n",
    "plt.title('Hierarchical Clustering')\n",
    "plt.show()\n",
    "\n",
    "silhouette_avg_agg = silhouette_score(features, cluster_labels_agg)\n",
    "print(f\"Silhouette Score (Hierarchical): {silhouette_avg_agg}\")\n"
   ]
  },
  {
   "cell_type": "code",
   "execution_count": null,
   "metadata": {},
   "outputs": [],
   "source": [
    "plt.hist(cluster_labels_agg, bins='auto', rwidth=0.8, color='#607c8e')\n",
    "plt.title('Histogram of Cluster Labels')\n",
    "plt.xlabel('Cluster Labels')\n",
    "plt.ylabel('Frequency')\n",
    "plt.show()"
   ]
  },
  {
   "cell_type": "code",
   "execution_count": null,
   "metadata": {},
   "outputs": [],
   "source": [
    "import numpy as np\n",
    "from sklearn.mixture import GaussianMixture\n",
    "from sklearn.metrics import silhouette_score\n",
    "import matplotlib.pyplot as plt\n",
    "\n",
    "features = sampled_data[:, 1:] \n",
    "\n",
    "gmm = GaussianMixture(n_components=5)  # You can change the number of components (clusters)\n",
    "cluster_labels_gmm = gmm.fit_predict(features)\n",
    "\n",
    "# Store cluster labels in the original dataset\n",
    "sampled_data_with_labels_gmm = np.column_stack((sampled_data, cluster_labels_gmm))\n",
    "\n",
    "# Visualize the results for two features\n",
    "plt.scatter(sampled_data[:, 0], sampled_data[:, 1], c=cluster_labels_gmm, cmap='viridis')\n",
    "plt.title('Gaussian Mixture Model Clustering')\n",
    "plt.show()\n",
    "\n",
    "# Silhouette Score (GMM)\n",
    "silhouette_avg_gmm = silhouette_score(features, cluster_labels_gmm)\n",
    "print(f\"Silhouette Score (GMM): {silhouette_avg_gmm}\")\n"
   ]
  },
  {
   "cell_type": "code",
   "execution_count": null,
   "metadata": {},
   "outputs": [],
   "source": [
    "plt.hist(cluster_labels_gmm, bins='auto', rwidth=0.8, color='#607c8e')\n",
    "plt.title('Histogram of Cluster Labels')\n",
    "plt.xlabel('Cluster Labels')\n",
    "plt.ylabel('Frequency')\n",
    "plt.show()"
   ]
  },
  {
   "cell_type": "code",
   "execution_count": null,
   "metadata": {},
   "outputs": [],
   "source": [
    "import numpy as np\n",
    "from sklearn.cluster import MeanShift\n",
    "from sklearn.metrics import silhouette_score\n",
    "import matplotlib.pyplot as plt\n",
    "\n",
    "features = sampled_data[:, 1:] \n",
    "\n",
    "# Mean Shift Clustering\n",
    "mean_shift = MeanShift(bandwidth=2.0)  # Adjust bandwidth as needed\n",
    "cluster_labels_mean_shift = mean_shift.fit_predict(features)\n",
    "\n",
    "# Store cluster labels in the original dataset\n",
    "sampled_data_with_labels_mean_shift = np.column_stack((sampled_data, cluster_labels_mean_shift))\n",
    "\n",
    "# Visualize the results for two features\n",
    "plt.scatter(sampled_data[:, 0], sampled_data[:, 1], c=cluster_labels_mean_shift, cmap='viridis')\n",
    "plt.title('Mean Shift Clustering')\n",
    "plt.show()\n",
    "\n",
    "# Silhouette Score (Mean Shift)\n",
    "silhouette_avg_mean_shift = silhouette_score(features, cluster_labels_mean_shift)\n",
    "print(f\"Silhouette Score (Mean Shift): {silhouette_avg_mean_shift}\")\n"
   ]
  },
  {
   "cell_type": "code",
   "execution_count": null,
   "metadata": {},
   "outputs": [],
   "source": [
    "plt.hist(cluster_labels_mean_shift, bins='auto', rwidth=0.8, color='#607c8e')\n",
    "plt.title('Histogram of Cluster Labels')\n",
    "plt.xlabel('Cluster Labels')\n",
    "plt.ylabel('Frequency')\n",
    "plt.show()"
   ]
  },
  {
   "cell_type": "code",
   "execution_count": null,
   "metadata": {},
   "outputs": [],
   "source": []
  }
 ],
 "metadata": {
  "accelerator": "GPU",
  "colab": {
   "gpuType": "T4",
   "provenance": []
  },
  "kernelspec": {
   "display_name": "Python 3 (ipykernel)",
   "language": "python",
   "name": "python3"
  },
  "language_info": {
   "codemirror_mode": {
    "name": "ipython",
    "version": 3
   },
   "file_extension": ".py",
   "mimetype": "text/x-python",
   "name": "python",
   "nbconvert_exporter": "python",
   "pygments_lexer": "ipython3",
   "version": "3.9.13"
  }
 },
 "nbformat": 4,
 "nbformat_minor": 1
}
