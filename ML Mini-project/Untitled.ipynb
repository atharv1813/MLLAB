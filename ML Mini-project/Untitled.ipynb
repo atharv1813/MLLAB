{
 "cells": [
  {
   "cell_type": "code",
   "execution_count": 4,
   "id": "b977bdf4",
   "metadata": {},
   "outputs": [
    {
     "name": "stdout",
     "output_type": "stream",
     "text": [
      "CSV file reduced by half and saved to uber-data2_reduced.csv\n"
     ]
    }
   ],
   "source": [
    "import pandas as pd\n",
    "import os\n",
    "\n",
    "def reduce_csv_by_half(input_file, output_dir=None):\n",
    "    # Read the CSV file into a pandas DataFrame\n",
    "    df = pd.read_csv(input_file)\n",
    "\n",
    "    # Select every other row starting from the first row\n",
    "    reduced_df = df.iloc[::2]\n",
    "\n",
    "    # If output directory is not provided, use the same directory as the input file\n",
    "    if output_dir is None:\n",
    "        output_dir = os.path.dirname(input_file)\n",
    "\n",
    "    # Generate the output file name based on the input file's name\n",
    "    input_filename = os.path.splitext(os.path.basename(input_file))[0]\n",
    "    output_file = os.path.join(output_dir, f\"{input_filename}_reduced.csv\")\n",
    "\n",
    "    # Write the reduced DataFrame to the new CSV file\n",
    "    reduced_df.to_csv(output_file, index=False)\n",
    "\n",
    "    return output_file\n",
    "\n",
    "# Replace this path with your actual input file path\n",
    "input_csv = \"uber-data2.csv\"\n",
    "\n",
    "# Reduce the CSV file by half and get the output file path\n",
    "uber_data3 = reduce_csv_by_half(input_csv)\n",
    "\n",
    "print(f\"CSV file reduced by half and saved to {uber_data3}\")\n"
   ]
  },
  {
   "cell_type": "code",
   "execution_count": null,
   "id": "0e3b3c80",
   "metadata": {},
   "outputs": [],
   "source": []
  }
 ],
 "metadata": {
  "kernelspec": {
   "display_name": "Python 3 (ipykernel)",
   "language": "python",
   "name": "python3"
  },
  "language_info": {
   "codemirror_mode": {
    "name": "ipython",
    "version": 3
   },
   "file_extension": ".py",
   "mimetype": "text/x-python",
   "name": "python",
   "nbconvert_exporter": "python",
   "pygments_lexer": "ipython3",
   "version": "3.9.13"
  }
 },
 "nbformat": 4,
 "nbformat_minor": 5
}
