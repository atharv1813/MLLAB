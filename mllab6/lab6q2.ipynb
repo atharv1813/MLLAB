{
 "cells": [
  {
   "cell_type": "code",
   "execution_count": 1,
   "id": "1b652049",
   "metadata": {},
   "outputs": [],
   "source": [
    "#pip install pgmpy"
   ]
  },
  {
   "cell_type": "code",
   "execution_count": 2,
   "id": "79b130a0",
   "metadata": {},
   "outputs": [],
   "source": [
    "from pgmpy.models import BayesianNetwork\n",
    "\n",
    "model = BayesianNetwork()\n",
    "\n",
    "model.add_nodes_from([\"exam\", \"IQ\", \"marks\", \"aptitude\", \"admission\"])\n",
    "\n",
    "model.add_edge(\"exam\", \"marks\")\n",
    "model.add_edge(\"IQ\", \"marks\")\n",
    "model.add_edge(\"marks\", \"admission\")\n",
    "model.add_edge(\"IQ\", \"aptitude\")"
   ]
  },
  {
   "cell_type": "code",
   "execution_count": 3,
   "id": "9d8d30cd",
   "metadata": {},
   "outputs": [
    {
     "name": "stdout",
     "output_type": "stream",
     "text": [
      "CHECK WHETHER IF GIVEN DATA/CPD'S ARE CORRECT AS AN INPUT FOR BAYESIAN MODEL: \n"
     ]
    },
    {
     "data": {
      "text/plain": [
       "True"
      ]
     },
     "execution_count": 3,
     "metadata": {},
     "output_type": "execute_result"
    }
   ],
   "source": [
    "from pgmpy.factors.discrete import TabularCPD\n",
    "\n",
    "cpd_exam = TabularCPD(variable=\"exam\", variable_card=2, values=[[0.7], [0.3]])\n",
    "\n",
    "cpd_iq = TabularCPD(variable=\"IQ\", variable_card=2, values=[[0.8], [0.2]])\n",
    "\n",
    "cpd_marks = TabularCPD(variable=\"marks\", variable_card=2, \n",
    "                       values=[[0.6, 0.9, 0.5, 0.8],\n",
    "                               [0.4, 0.1, 0.5, 0.2]],\n",
    "                       evidence=[\"IQ\", \"exam\"],\n",
    "                       evidence_card=[2, 2])\n",
    "\n",
    "cpd_admission = TabularCPD(variable=\"admission\", variable_card=2, \n",
    "                           values=[[0.6, 0.9],\n",
    "                                   [0.4, 0.1]],\n",
    "                           evidence=[\"marks\"],\n",
    "                           evidence_card=[2])\n",
    "\n",
    "cpd_aptitude = TabularCPD(variable=\"aptitude\", variable_card=2, \n",
    "                          values=[[0.75, 0.4], \n",
    "                                  [0.25, 0.6]], \n",
    "                          evidence=[\"IQ\"], \n",
    "                          evidence_card=[2])\n",
    "\n",
    "model.add_cpds(cpd_exam, cpd_iq, cpd_marks, cpd_admission, cpd_aptitude)\n",
    "\n",
    "print(\"CHECK WHETHER IF GIVEN DATA/CPD'S ARE CORRECT AS AN INPUT FOR BAYESIAN MODEL: \")\n",
    "model.check_model()\n"
   ]
  },
  {
   "cell_type": "code",
   "execution_count": 4,
   "id": "1292c9e5",
   "metadata": {},
   "outputs": [
    {
     "name": "stdout",
     "output_type": "stream",
     "text": [
      "Nodes in the model: ['exam', 'IQ', 'marks', 'aptitude', 'admission']\n",
      "Edges in the model: [('exam', 'marks'), ('IQ', 'marks'), ('IQ', 'aptitude'), ('marks', 'admission')]\n"
     ]
    }
   ],
   "source": [
    "print(\"Nodes in the model:\", model.nodes())\n",
    "print(\"Edges in the model:\", model.edges())"
   ]
  },
  {
   "cell_type": "code",
   "execution_count": 5,
   "id": "74f1e8ae",
   "metadata": {},
   "outputs": [
    {
     "ename": "NameError",
     "evalue": "name 'VariableElimination' is not defined",
     "output_type": "error",
     "traceback": [
      "\u001b[1;31m---------------------------------------------------------------------------\u001b[0m",
      "\u001b[1;31mNameError\u001b[0m                                 Traceback (most recent call last)",
      "\u001b[1;32m~\\AppData\\Local\\Temp\\ipykernel_6256\\2832100642.py\u001b[0m in \u001b[0;36m<module>\u001b[1;34m\u001b[0m\n\u001b[1;32m----> 1\u001b[1;33m \u001b[0minference\u001b[0m \u001b[1;33m=\u001b[0m \u001b[0mVariableElimination\u001b[0m\u001b[1;33m(\u001b[0m\u001b[0mmodel\u001b[0m\u001b[1;33m)\u001b[0m\u001b[1;33m\u001b[0m\u001b[1;33m\u001b[0m\u001b[0m\n\u001b[0m\u001b[0;32m      2\u001b[0m \u001b[0mresult\u001b[0m \u001b[1;33m=\u001b[0m \u001b[0minference\u001b[0m\u001b[1;33m.\u001b[0m\u001b[0mquery\u001b[0m\u001b[1;33m(\u001b[0m\u001b[0mvariables\u001b[0m\u001b[1;33m=\u001b[0m\u001b[1;33m[\u001b[0m\u001b[1;34m\"marks\"\u001b[0m\u001b[1;33m]\u001b[0m\u001b[1;33m,\u001b[0m \u001b[0mevidence\u001b[0m\u001b[1;33m=\u001b[0m\u001b[1;33m{\u001b[0m\u001b[1;34m\"exam\"\u001b[0m\u001b[1;33m:\u001b[0m \u001b[1;36m0\u001b[0m\u001b[1;33m}\u001b[0m\u001b[1;33m)\u001b[0m\u001b[1;33m\u001b[0m\u001b[1;33m\u001b[0m\u001b[0m\n\u001b[0;32m      3\u001b[0m \u001b[0mprint\u001b[0m\u001b[1;33m(\u001b[0m\u001b[0mresult\u001b[0m\u001b[1;33m)\u001b[0m\u001b[1;33m\u001b[0m\u001b[1;33m\u001b[0m\u001b[0m\n",
      "\u001b[1;31mNameError\u001b[0m: name 'VariableElimination' is not defined"
     ]
    }
   ],
   "source": [
    "inference = VariableElimination(model)\n",
    "result = inference.query(variables=[\"marks\"], evidence={\"exam\": 0})\n",
    "print(result)"
   ]
  },
  {
   "cell_type": "code",
   "execution_count": null,
   "id": "d88e4f51",
   "metadata": {},
   "outputs": [],
   "source": [
    "inference = VariableElimination(model)\n",
    "result = inference.query(variables=[\"marks\"], evidence={\"IQ\": 1})\n",
    "print(result)"
   ]
  },
  {
   "cell_type": "code",
   "execution_count": null,
   "id": "c7be33b1",
   "metadata": {},
   "outputs": [],
   "source": [
    "inference = VariableElimination(model)\n",
    "result = inference.query(variables=[\"marks\"], evidence={\"IQ\": 0})\n",
    "print(result)"
   ]
  },
  {
   "cell_type": "code",
   "execution_count": null,
   "id": "4d82ea74",
   "metadata": {},
   "outputs": [],
   "source": [
    "inference = VariableElimination(model)\n",
    "result = inference.query(variables=[\"marks\"], evidence={\"IQ\": 1})\n",
    "print(result)"
   ]
  },
  {
   "cell_type": "code",
   "execution_count": null,
   "id": "e517c9e4",
   "metadata": {},
   "outputs": [],
   "source": [
    "inference = VariableElimination(model)\n",
    "result = inference.query(variables=[\"admission\"], evidence={\"marks\": 1})\n",
    "print(result)"
   ]
  },
  {
   "cell_type": "code",
   "execution_count": null,
   "id": "db60271e",
   "metadata": {},
   "outputs": [],
   "source": [
    "inference = VariableElimination(model)\n",
    "result = inference.query(variables=[\"admission\"], evidence={\"marks\": 0})\n",
    "print(result)"
   ]
  },
  {
   "cell_type": "code",
   "execution_count": null,
   "id": "53675655",
   "metadata": {},
   "outputs": [],
   "source": [
    "inference = VariableElimination(model)\n",
    "result = inference.query(variables=[\"aptitude\"], evidence={\"IQ\": 1})\n",
    "print(result)"
   ]
  },
  {
   "cell_type": "code",
   "execution_count": null,
   "id": "bcff8eed",
   "metadata": {},
   "outputs": [],
   "source": [
    "inference = VariableElimination(model)\n",
    "result = inference.query(variables=[\"aptitude\"], evidence={\"IQ\": 0})\n",
    "print(result)"
   ]
  },
  {
   "cell_type": "code",
   "execution_count": null,
   "id": "51bf85ef",
   "metadata": {},
   "outputs": [],
   "source": []
  }
 ],
 "metadata": {
  "kernelspec": {
   "display_name": "Python 3 (ipykernel)",
   "language": "python",
   "name": "python3"
  },
  "language_info": {
   "codemirror_mode": {
    "name": "ipython",
    "version": 3
   },
   "file_extension": ".py",
   "mimetype": "text/x-python",
   "name": "python",
   "nbconvert_exporter": "python",
   "pygments_lexer": "ipython3",
   "version": "3.9.13"
  }
 },
 "nbformat": 4,
 "nbformat_minor": 5
}
