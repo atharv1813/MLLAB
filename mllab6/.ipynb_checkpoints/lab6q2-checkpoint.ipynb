{
 "cells": [
  {
   "cell_type": "code",
   "execution_count": 27,
   "id": "1b652049",
   "metadata": {},
   "outputs": [],
   "source": [
    "#pip install pgmpy"
   ]
  },
  {
   "cell_type": "code",
   "execution_count": 28,
   "id": "79b130a0",
   "metadata": {},
   "outputs": [],
   "source": [
    "from pgmpy.models import BayesianNetwork\n",
    "\n",
    "model = BayesianNetwork()\n",
    "\n",
    "model.add_nodes_from([\"exam\", \"IQ\", \"marks\", \"aptitude\", \"admission\"])\n",
    "\n",
    "model.add_edge(\"exam\", \"marks\")\n",
    "model.add_edge(\"IQ\", \"marks\")\n",
    "model.add_edge(\"marks\", \"admission\")\n",
    "model.add_edge(\"IQ\", \"aptitude\")"
   ]
  },
  {
   "cell_type": "code",
   "execution_count": 29,
   "id": "9d8d30cd",
   "metadata": {},
   "outputs": [
    {
     "name": "stdout",
     "output_type": "stream",
     "text": [
      "CHECK WHETHER IF GIVEN DATA/CPD'S ARE CORRECT AS AN INPUT FOR BAYESIAN MODEL: \n"
     ]
    },
    {
     "data": {
      "text/plain": [
       "True"
      ]
     },
     "execution_count": 29,
     "metadata": {},
     "output_type": "execute_result"
    }
   ],
   "source": [
    "from pgmpy.factors.discrete import TabularCPD\n",
    "\n",
    "cpd_exam = TabularCPD(variable=\"exam\", variable_card=2, values=[[0.7], [0.3]])\n",
    "\n",
    "cpd_iq = TabularCPD(variable=\"IQ\", variable_card=2, values=[[0.8], [0.2]])\n",
    "\n",
    "cpd_marks = TabularCPD(variable=\"marks\", variable_card=2, \n",
    "                       values=[[0.6, 0.9, 0.5, 0.8],\n",
    "                               [0.4, 0.1, 0.5, 0.2]],\n",
    "                       evidence=[\"IQ\", \"exam\"],\n",
    "                       evidence_card=[2, 2])\n",
    "\n",
    "cpd_admission = TabularCPD(variable=\"admission\", variable_card=2, \n",
    "                           values=[[0.6, 0.9],\n",
    "                                   [0.4, 0.1]],\n",
    "                           evidence=[\"marks\"],\n",
    "                           evidence_card=[2])\n",
    "\n",
    "cpd_aptitude = TabularCPD(variable=\"aptitude\", variable_card=2, \n",
    "                          values=[[0.75, 0.4], \n",
    "                                  [0.25, 0.6]], \n",
    "                          evidence=[\"IQ\"], \n",
    "                          evidence_card=[2])\n",
    "\n",
    "model.add_cpds(cpd_exam, cpd_iq, cpd_marks, cpd_admission, cpd_aptitude)\n",
    "\n",
    "print(\"CHECK WHETHER IF GIVEN DATA/CPD'S ARE CORRECT AS AN INPUT FOR BAYESIAN MODEL: \")\n",
    "model.check_model()\n"
   ]
  },
  {
   "cell_type": "code",
   "execution_count": 30,
   "id": "1292c9e5",
   "metadata": {},
   "outputs": [
    {
     "name": "stdout",
     "output_type": "stream",
     "text": [
      "Nodes in the model: ['exam', 'IQ', 'marks', 'aptitude', 'admission']\n",
      "Edges in the model: [('exam', 'marks'), ('IQ', 'marks'), ('IQ', 'aptitude'), ('marks', 'admission')]\n"
     ]
    }
   ],
   "source": [
    "print(\"Nodes in the model:\", model.nodes())\n",
    "print(\"Edges in the model:\", model.edges())"
   ]
  },
  {
   "cell_type": "code",
   "execution_count": 32,
   "id": "74f1e8ae",
   "metadata": {},
   "outputs": [
    {
     "name": "stdout",
     "output_type": "stream",
     "text": [
      "+----------+--------------+\n",
      "| marks    |   phi(marks) |\n",
      "+==========+==============+\n",
      "| marks(0) |       0.5800 |\n",
      "+----------+--------------+\n",
      "| marks(1) |       0.4200 |\n",
      "+----------+--------------+\n"
     ]
    }
   ],
   "source": [
    "inference = VariableElimination(model)\n",
    "result = inference.query(variables=[\"marks\"], evidence={\"exam\": 0})\n",
    "print(result)"
   ]
  },
  {
   "cell_type": "code",
   "execution_count": 33,
   "id": "d88e4f51",
   "metadata": {},
   "outputs": [
    {
     "name": "stdout",
     "output_type": "stream",
     "text": [
      "+----------+--------------+\n",
      "| marks    |   phi(marks) |\n",
      "+==========+==============+\n",
      "| marks(0) |       0.5900 |\n",
      "+----------+--------------+\n",
      "| marks(1) |       0.4100 |\n",
      "+----------+--------------+\n"
     ]
    }
   ],
   "source": [
    "inference = VariableElimination(model)\n",
    "result = inference.query(variables=[\"marks\"], evidence={\"IQ\": 1})\n",
    "print(result)"
   ]
  },
  {
   "cell_type": "code",
   "execution_count": 34,
   "id": "c7be33b1",
   "metadata": {},
   "outputs": [
    {
     "name": "stdout",
     "output_type": "stream",
     "text": [
      "+----------+--------------+\n",
      "| marks    |   phi(marks) |\n",
      "+==========+==============+\n",
      "| marks(0) |       0.6900 |\n",
      "+----------+--------------+\n",
      "| marks(1) |       0.3100 |\n",
      "+----------+--------------+\n"
     ]
    }
   ],
   "source": [
    "inference = VariableElimination(model)\n",
    "result = inference.query(variables=[\"marks\"], evidence={\"IQ\": 0})\n",
    "print(result)"
   ]
  },
  {
   "cell_type": "code",
   "execution_count": 35,
   "id": "4d82ea74",
   "metadata": {},
   "outputs": [
    {
     "name": "stdout",
     "output_type": "stream",
     "text": [
      "+----------+--------------+\n",
      "| marks    |   phi(marks) |\n",
      "+==========+==============+\n",
      "| marks(0) |       0.5900 |\n",
      "+----------+--------------+\n",
      "| marks(1) |       0.4100 |\n",
      "+----------+--------------+\n"
     ]
    }
   ],
   "source": [
    "inference = VariableElimination(model)\n",
    "result = inference.query(variables=[\"marks\"], evidence={\"IQ\": 1})\n",
    "print(result)"
   ]
  },
  {
   "cell_type": "code",
   "execution_count": 36,
   "id": "e517c9e4",
   "metadata": {},
   "outputs": [
    {
     "name": "stdout",
     "output_type": "stream",
     "text": [
      "+--------------+------------------+\n",
      "| admission    |   phi(admission) |\n",
      "+==============+==================+\n",
      "| admission(0) |           0.9000 |\n",
      "+--------------+------------------+\n",
      "| admission(1) |           0.1000 |\n",
      "+--------------+------------------+\n"
     ]
    }
   ],
   "source": [
    "inference = VariableElimination(model)\n",
    "result = inference.query(variables=[\"admission\"], evidence={\"marks\": 1})\n",
    "print(result)"
   ]
  },
  {
   "cell_type": "code",
   "execution_count": 37,
   "id": "db60271e",
   "metadata": {},
   "outputs": [
    {
     "name": "stdout",
     "output_type": "stream",
     "text": [
      "+--------------+------------------+\n",
      "| admission    |   phi(admission) |\n",
      "+==============+==================+\n",
      "| admission(0) |           0.6000 |\n",
      "+--------------+------------------+\n",
      "| admission(1) |           0.4000 |\n",
      "+--------------+------------------+\n"
     ]
    }
   ],
   "source": [
    "inference = VariableElimination(model)\n",
    "result = inference.query(variables=[\"admission\"], evidence={\"marks\": 0})\n",
    "print(result)"
   ]
  },
  {
   "cell_type": "code",
   "execution_count": 38,
   "id": "53675655",
   "metadata": {},
   "outputs": [
    {
     "name": "stdout",
     "output_type": "stream",
     "text": [
      "+-------------+-----------------+\n",
      "| aptitude    |   phi(aptitude) |\n",
      "+=============+=================+\n",
      "| aptitude(0) |          0.4000 |\n",
      "+-------------+-----------------+\n",
      "| aptitude(1) |          0.6000 |\n",
      "+-------------+-----------------+\n"
     ]
    }
   ],
   "source": [
    "inference = VariableElimination(model)\n",
    "result = inference.query(variables=[\"aptitude\"], evidence={\"IQ\": 1})\n",
    "print(result)"
   ]
  },
  {
   "cell_type": "code",
   "execution_count": 39,
   "id": "bcff8eed",
   "metadata": {},
   "outputs": [
    {
     "name": "stdout",
     "output_type": "stream",
     "text": [
      "+-------------+-----------------+\n",
      "| aptitude    |   phi(aptitude) |\n",
      "+=============+=================+\n",
      "| aptitude(0) |          0.7500 |\n",
      "+-------------+-----------------+\n",
      "| aptitude(1) |          0.2500 |\n",
      "+-------------+-----------------+\n"
     ]
    }
   ],
   "source": [
    "inference = VariableElimination(model)\n",
    "result = inference.query(variables=[\"aptitude\"], evidence={\"IQ\": 0})\n",
    "print(result)"
   ]
  },
  {
   "cell_type": "code",
   "execution_count": null,
   "id": "51bf85ef",
   "metadata": {},
   "outputs": [],
   "source": []
  }
 ],
 "metadata": {
  "kernelspec": {
   "display_name": "Python 3 (ipykernel)",
   "language": "python",
   "name": "python3"
  },
  "language_info": {
   "codemirror_mode": {
    "name": "ipython",
    "version": 3
   },
   "file_extension": ".py",
   "mimetype": "text/x-python",
   "name": "python",
   "nbconvert_exporter": "python",
   "pygments_lexer": "ipython3",
   "version": "3.9.13"
  }
 },
 "nbformat": 4,
 "nbformat_minor": 5
}
