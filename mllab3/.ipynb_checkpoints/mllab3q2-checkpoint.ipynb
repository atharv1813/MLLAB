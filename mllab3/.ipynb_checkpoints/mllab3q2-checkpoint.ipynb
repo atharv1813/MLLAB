{
 "cells": [
  {
   "cell_type": "code",
   "execution_count": 1,
   "id": "5fdd2326",
   "metadata": {},
   "outputs": [],
   "source": [
    "import pandas as pd\n",
    "from sklearn.model_selection import train_test_split\n",
    "from sklearn.linear_model import LogisticRegression\n",
    "from sklearn.metrics import accuracy_score, classification_report, confusion_matrix"
   ]
  },
  {
   "cell_type": "code",
   "execution_count": 2,
   "id": "9466f645",
   "metadata": {},
   "outputs": [
    {
     "name": "stdout",
     "output_type": "stream",
     "text": [
      "    sepal_length  sepal_width  petal_length  petal_width species\n",
      "0            5.1          3.5           1.4          0.2  setosa\n",
      "1            4.9          3.0           1.4          0.2  setosa\n",
      "2            4.7          3.2           1.3          0.2  setosa\n",
      "3            4.6          3.1           1.5          0.2  setosa\n",
      "4            5.0          3.6           1.4          0.2  setosa\n",
      "5            5.4          3.9           1.7          0.4  setosa\n",
      "6            4.6          3.4           1.4          0.3  setosa\n",
      "7            5.0          3.4           1.5          0.2  setosa\n",
      "8            4.4          2.9           1.4          0.2  setosa\n",
      "9            4.9          3.1           1.5          0.1  setosa\n",
      "10           5.4          3.7           1.5          0.2  setosa\n",
      "11           4.8          3.4           1.6          0.2  setosa\n",
      "12           4.8          3.0           1.4          0.1  setosa\n",
      "13           4.3          3.0           1.1          0.1  setosa\n",
      "14           5.8          4.0           1.2          0.2  setosa\n",
      "15           5.7          4.4           1.5          0.4  setosa\n",
      "16           5.4          3.9           1.3          0.4  setosa\n",
      "17           5.1          3.5           1.4          0.3  setosa\n",
      "18           5.7          3.8           1.7          0.3  setosa\n",
      "19           5.1          3.8           1.5          0.3  setosa\n"
     ]
    }
   ],
   "source": [
    "data = pd.read_csv('iris.csv')\n",
    "print(data.head(20))"
   ]
  },
  {
   "cell_type": "code",
   "execution_count": 4,
   "id": "cf0582d5",
   "metadata": {},
   "outputs": [
    {
     "name": "stdout",
     "output_type": "stream",
     "text": [
      "    sepal_length  sepal_width  petal_length  petal_width\n",
      "0            5.1          3.5           1.4          0.2\n",
      "1            4.9          3.0           1.4          0.2\n",
      "2            4.7          3.2           1.3          0.2\n",
      "3            4.6          3.1           1.5          0.2\n",
      "4            5.0          3.6           1.4          0.2\n",
      "5            5.4          3.9           1.7          0.4\n",
      "6            4.6          3.4           1.4          0.3\n",
      "7            5.0          3.4           1.5          0.2\n",
      "8            4.4          2.9           1.4          0.2\n",
      "9            4.9          3.1           1.5          0.1\n",
      "10           5.4          3.7           1.5          0.2\n",
      "11           4.8          3.4           1.6          0.2\n",
      "12           4.8          3.0           1.4          0.1\n",
      "13           4.3          3.0           1.1          0.1\n",
      "14           5.8          4.0           1.2          0.2\n",
      "15           5.7          4.4           1.5          0.4\n",
      "16           5.4          3.9           1.3          0.4\n",
      "17           5.1          3.5           1.4          0.3\n",
      "18           5.7          3.8           1.7          0.3\n",
      "19           5.1          3.8           1.5          0.3\n",
      "\n",
      "\n",
      "0     setosa\n",
      "1     setosa\n",
      "2     setosa\n",
      "3     setosa\n",
      "4     setosa\n",
      "5     setosa\n",
      "6     setosa\n",
      "7     setosa\n",
      "8     setosa\n",
      "9     setosa\n",
      "10    setosa\n",
      "11    setosa\n",
      "12    setosa\n",
      "13    setosa\n",
      "14    setosa\n",
      "15    setosa\n",
      "16    setosa\n",
      "17    setosa\n",
      "18    setosa\n",
      "19    setosa\n",
      "Name: species, dtype: object\n"
     ]
    }
   ],
   "source": [
    "X = data[['sepal_length', 'sepal_width', 'petal_length', 'petal_width']]\n",
    "Y = data['species']\n",
    "print(X.head(20))\n",
    "print(\"\\n\")\n",
    "print(Y.head(20))"
   ]
  },
  {
   "cell_type": "code",
   "execution_count": 5,
   "id": "5b2254ce",
   "metadata": {},
   "outputs": [
    {
     "name": "stdout",
     "output_type": "stream",
     "text": [
      "     sepal_length  sepal_width  petal_length  petal_width\n",
      "56            6.3          3.3           4.7          1.6\n",
      "104           6.5          3.0           5.8          2.2\n",
      "69            5.6          2.5           3.9          1.1\n",
      "55            5.7          2.8           4.5          1.3\n",
      "132           6.4          2.8           5.6          2.2\n",
      "29            4.7          3.2           1.6          0.2\n",
      "127           6.1          3.0           4.9          1.8\n",
      "26            5.0          3.4           1.6          0.4\n",
      "128           6.4          2.8           5.6          2.1\n",
      "131           7.9          3.8           6.4          2.0\n",
      "145           6.7          3.0           5.2          2.3\n",
      "108           6.7          2.5           5.8          1.8\n",
      "143           6.8          3.2           5.9          2.3\n",
      "45            4.8          3.0           1.4          0.3\n",
      "30            4.8          3.1           1.6          0.2\n",
      "\n",
      "\n",
      "\n",
      "\n",
      "     sepal_length  sepal_width  petal_length  petal_width\n",
      "73            6.1          2.8           4.7          1.2\n",
      "18            5.7          3.8           1.7          0.3\n",
      "118           7.7          2.6           6.9          2.3\n",
      "78            6.0          2.9           4.5          1.5\n",
      "76            6.8          2.8           4.8          1.4\n",
      "31            5.4          3.4           1.5          0.4\n",
      "64            5.6          2.9           3.6          1.3\n",
      "141           6.9          3.1           5.1          2.3\n",
      "68            6.2          2.2           4.5          1.5\n",
      "82            5.8          2.7           3.9          1.2\n",
      "110           6.5          3.2           5.1          2.0\n",
      "12            4.8          3.0           1.4          0.1\n",
      "36            5.5          3.5           1.3          0.2\n",
      "9             4.9          3.1           1.5          0.1\n",
      "19            5.1          3.8           1.5          0.3\n",
      "\n",
      "\n",
      "\n",
      "\n",
      "56     versicolor\n",
      "104     virginica\n",
      "69     versicolor\n",
      "55     versicolor\n",
      "132     virginica\n",
      "29         setosa\n",
      "127     virginica\n",
      "26         setosa\n",
      "128     virginica\n",
      "131     virginica\n",
      "145     virginica\n",
      "108     virginica\n",
      "143     virginica\n",
      "45         setosa\n",
      "30         setosa\n",
      "Name: species, dtype: object\n",
      "\n",
      "\n",
      "\n",
      "\n",
      "73     versicolor\n",
      "18         setosa\n",
      "118     virginica\n",
      "78     versicolor\n",
      "76     versicolor\n",
      "31         setosa\n",
      "64     versicolor\n",
      "141     virginica\n",
      "68     versicolor\n",
      "82     versicolor\n",
      "110     virginica\n",
      "12         setosa\n",
      "36         setosa\n",
      "9          setosa\n",
      "19         setosa\n",
      "Name: species, dtype: object\n"
     ]
    }
   ],
   "source": [
    "X_train, X_test, Y_train, Y_test = train_test_split(X, Y, test_size=0.1, random_state=42)\n",
    "print(X_train.head(15))\n",
    "print(\"\\n\\n\\n\")\n",
    "print(X_test.head(15))\n",
    "print(\"\\n\\n\\n\")\n",
    "print(Y_train.head(15))\n",
    "print(\"\\n\\n\\n\")\n",
    "print(Y_test.head(15))"
   ]
  },
  {
   "cell_type": "code",
   "execution_count": 6,
   "id": "b26dd973",
   "metadata": {},
   "outputs": [
    {
     "data": {
      "text/plain": [
       "LogisticRegression(max_iter=1000)"
      ]
     },
     "execution_count": 6,
     "metadata": {},
     "output_type": "execute_result"
    }
   ],
   "source": [
    "logistic_regression_model = LogisticRegression(max_iter=1000)  \n",
    "logistic_regression_model.fit(X_train, Y_train)"
   ]
  },
  {
   "cell_type": "code",
   "execution_count": 7,
   "id": "d34e86ae",
   "metadata": {},
   "outputs": [],
   "source": [
    "Y_pred = logistic_regression_model.predict(X_test)"
   ]
  },
  {
   "cell_type": "code",
   "execution_count": 8,
   "id": "fcf54bf9",
   "metadata": {},
   "outputs": [
    {
     "name": "stdout",
     "output_type": "stream",
     "text": [
      "Accuracy: 1.00\n"
     ]
    }
   ],
   "source": [
    "accuracy = accuracy_score(Y_test, Y_pred)\n",
    "print(f'Accuracy: {accuracy:.2f}')"
   ]
  },
  {
   "cell_type": "code",
   "execution_count": 9,
   "id": "e2062d97",
   "metadata": {},
   "outputs": [
    {
     "name": "stdout",
     "output_type": "stream",
     "text": [
      "Classification Report:\n",
      "               precision    recall  f1-score   support\n",
      "\n",
      "      setosa       1.00      1.00      1.00         6\n",
      "  versicolor       1.00      1.00      1.00         6\n",
      "   virginica       1.00      1.00      1.00         3\n",
      "\n",
      "    accuracy                           1.00        15\n",
      "   macro avg       1.00      1.00      1.00        15\n",
      "weighted avg       1.00      1.00      1.00        15\n",
      "\n"
     ]
    }
   ],
   "source": [
    "classification_rep = classification_report(Y_test, Y_pred)\n",
    "print('Classification Report:\\n', classification_rep)"
   ]
  },
  {
   "cell_type": "code",
   "execution_count": 10,
   "id": "be04588f",
   "metadata": {},
   "outputs": [
    {
     "name": "stdout",
     "output_type": "stream",
     "text": [
      "Confusion Matrix:\n",
      " [[6 0 0]\n",
      " [0 6 0]\n",
      " [0 0 3]]\n"
     ]
    }
   ],
   "source": [
    "confusion_mtx = confusion_matrix(Y_test, Y_pred)\n",
    "print('Confusion Matrix:\\n', confusion_mtx)"
   ]
  },
  {
   "cell_type": "code",
   "execution_count": 11,
   "id": "1db55ed7",
   "metadata": {},
   "outputs": [
    {
     "data": {
      "image/png": "[encoded data removed]",
      "text/plain": [
       "<Figure size 800x600 with 1 Axes>"
      ]
     },
     "metadata": {},
     "output_type": "display_data"
    }
   ],
   "source": [
    "import matplotlib.pyplot as plt\n",
    "import seaborn as sns\n",
    "\n",
    "# Create a confusion matrix heatmap\n",
    "plt.figure(figsize=(8, 6))\n",
    "sns.heatmap(confusion_mtx, annot=True, fmt='d', cmap='Blues', cbar=False)\n",
    "plt.xlabel('Predicted')\n",
    "plt.ylabel('Actual')\n",
    "plt.title('Confusion Matrix Heatmap')\n",
    "plt.show()\n"
   ]
  },
  {
   "cell_type": "code",
   "execution_count": 12,
   "id": "cea48adb",
   "metadata": {},
   "outputs": [
    {
     "data": {
      "image/png": "[encoded data removed]",
      "text/plain": [
       "<Figure size 800x600 with 1 Axes>"
      ]
     },
     "metadata": {},
     "output_type": "display_data"
    }
   ],
   "source": [
    "import matplotlib.pyplot as plt\n",
    "\n",
    "feature_importances = logistic_regression_model.coef_[0]\n",
    "\n",
    "plt.figure(figsize=(8, 6))\n",
    "plt.bar(range(len(feature_importances)), feature_importances, tick_label=X.columns)\n",
    "plt.xlabel('Features')\n",
    "plt.ylabel('Coefficient Value')\n",
    "plt.title('Feature Importances')\n",
    "plt.xticks(rotation=45)\n",
    "plt.show()\n"
   ]
  },
  {
   "cell_type": "code",
   "execution_count": null,
   "id": "5d78a6a9",
   "metadata": {},
   "outputs": [],
   "source": []
  }
 ],
 "metadata": {
  "kernelspec": {
   "display_name": "Python 3 (ipykernel)",
   "language": "python",
   "name": "python3"
  },
  "language_info": {
   "codemirror_mode": {
    "name": "ipython",
    "version": 3
   },
   "file_extension": ".py",
   "mimetype": "text/x-python",
   "name": "python",
   "nbconvert_exporter": "python",
   "pygments_lexer": "ipython3",
   "version": "3.9.13"
  }
 },
 "nbformat": 4,
 "nbformat_minor": 5
}
