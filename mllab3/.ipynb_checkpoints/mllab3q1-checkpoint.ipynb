{
 "cells": [
  {
   "cell_type": "code",
   "execution_count": 27,
   "id": "f758b1c9",
   "metadata": {},
   "outputs": [],
   "source": [
    "import numpy as np\n",
    "import pandas as pd\n",
    "from sklearn.model_selection import train_test_split\n",
    "from sklearn.preprocessing import OneHotEncoder\n",
    "from sklearn.preprocessing import LabelEncoder\n",
    "from sklearn.metrics import confusion_matrix\n",
    "import seaborn as sns\n",
    "import matplotlib.pyplot as plt"
   ]
  },
  {
   "cell_type": "code",
   "execution_count": 28,
   "id": "4ff63b6a",
   "metadata": {
    "scrolled": true
   },
   "outputs": [
    {
     "name": "stdout",
     "output_type": "stream",
     "text": [
      "    gender   age  hypertension  heart_disease smoking_history    bmi  \\\n",
      "0   Female  80.0             0              1           never  25.19   \n",
      "1   Female  54.0             0              0         No Info  27.32   \n",
      "2     Male  28.0             0              0           never  27.32   \n",
      "3   Female  36.0             0              0         current  23.45   \n",
      "4     Male  76.0             1              1         current  20.14   \n",
      "5   Female  20.0             0              0           never  27.32   \n",
      "6   Female  44.0             0              0           never  19.31   \n",
      "7   Female  79.0             0              0         No Info  23.86   \n",
      "8     Male  42.0             0              0           never  33.64   \n",
      "9   Female  32.0             0              0           never  27.32   \n",
      "10  Female  53.0             0              0           never  27.32   \n",
      "11  Female  54.0             0              0          former  54.70   \n",
      "12  Female  78.0             0              0          former  36.05   \n",
      "13  Female  67.0             0              0           never  25.69   \n",
      "14  Female  76.0             0              0         No Info  27.32   \n",
      "\n",
      "    HbA1c_level  blood_glucose_level  diabetes  \n",
      "0           6.6                  140         0  \n",
      "1           6.6                   80         0  \n",
      "2           5.7                  158         0  \n",
      "3           5.0                  155         0  \n",
      "4           4.8                  155         0  \n",
      "5           6.6                   85         0  \n",
      "6           6.5                  200         1  \n",
      "7           5.7                   85         0  \n",
      "8           4.8                  145         0  \n",
      "9           5.0                  100         0  \n",
      "10          6.1                   85         0  \n",
      "11          6.0                  100         0  \n",
      "12          5.0                  130         0  \n",
      "13          5.8                  200         0  \n",
      "14          5.0                  160         0  \n"
     ]
    }
   ],
   "source": [
    "data = pd.read_csv('diabetes.csv')\n",
    "print(data.head(15))"
   ]
  },
  {
   "cell_type": "code",
   "execution_count": 29,
   "id": "c5cb42d4",
   "metadata": {
    "scrolled": true
   },
   "outputs": [
    {
     "name": "stdout",
     "output_type": "stream",
     "text": [
      "    gender   age  hypertension  heart_disease smoking_history    bmi  \\\n",
      "0   Female  80.0             0              1           never  25.19   \n",
      "1   Female  54.0             0              0         No Info  27.32   \n",
      "2     Male  28.0             0              0           never  27.32   \n",
      "3   Female  36.0             0              0         current  23.45   \n",
      "4     Male  76.0             1              1         current  20.14   \n",
      "5   Female  20.0             0              0           never  27.32   \n",
      "6   Female  44.0             0              0           never  19.31   \n",
      "7   Female  79.0             0              0         No Info  23.86   \n",
      "8     Male  42.0             0              0           never  33.64   \n",
      "9   Female  32.0             0              0           never  27.32   \n",
      "10  Female  53.0             0              0           never  27.32   \n",
      "11  Female  54.0             0              0          former  54.70   \n",
      "12  Female  78.0             0              0          former  36.05   \n",
      "13  Female  67.0             0              0           never  25.69   \n",
      "14  Female  76.0             0              0         No Info  27.32   \n",
      "\n",
      "    HbA1c_level  blood_glucose_level  \n",
      "0           6.6                  140  \n",
      "1           6.6                   80  \n",
      "2           5.7                  158  \n",
      "3           5.0                  155  \n",
      "4           4.8                  155  \n",
      "5           6.6                   85  \n",
      "6           6.5                  200  \n",
      "7           5.7                   85  \n",
      "8           4.8                  145  \n",
      "9           5.0                  100  \n",
      "10          6.1                   85  \n",
      "11          6.0                  100  \n",
      "12          5.0                  130  \n",
      "13          5.8                  200  \n",
      "14          5.0                  160  \n",
      "0     0\n",
      "1     0\n",
      "2     0\n",
      "3     0\n",
      "4     0\n",
      "5     0\n",
      "6     1\n",
      "7     0\n",
      "8     0\n",
      "9     0\n",
      "10    0\n",
      "11    0\n",
      "12    0\n",
      "13    0\n",
      "14    0\n",
      "Name: diabetes, dtype: int64\n"
     ]
    }
   ],
   "source": [
    "X = data.drop('diabetes', axis=1)\n",
    "Y = data['diabetes']\n",
    "\n",
    "print(X.head(15))\n",
    "print(Y.head(15))"
   ]
  },
  {
   "cell_type": "code",
   "execution_count": 30,
   "id": "4f5bc52c",
   "metadata": {},
   "outputs": [
    {
     "name": "stdout",
     "output_type": "stream",
     "text": [
      "       gender    age  hypertension  heart_disease smoking_history    bmi  \\\n",
      "75220    Male  73.00             0              0          former  24.77   \n",
      "48955    Male  80.00             0              0           never  24.60   \n",
      "44966  Female  38.00             0              0            ever  24.33   \n",
      "13568  Female  26.00             0              0     not current  18.87   \n",
      "92727  Female  61.00             1              0         current  22.11   \n",
      "51349  Female  34.00             0              0           never  19.46   \n",
      "86979  Female  42.00             0              0          former  27.32   \n",
      "3806     Male  51.00             0              0           never  27.32   \n",
      "91822  Female  20.00             0              0         current  21.37   \n",
      "6006     Male  10.00             0              0         No Info  17.70   \n",
      "55086  Female  27.00             0              0           never  28.81   \n",
      "44204  Female  49.00             0              0            ever  48.21   \n",
      "32409    Male  31.00             0              0         No Info  27.32   \n",
      "88994  Female   1.08             0              0         No Info  14.59   \n",
      "8138   Female  42.00             0              0         No Info  27.32   \n",
      "\n",
      "       HbA1c_level  blood_glucose_level  \n",
      "75220          3.5                   80  \n",
      "48955          5.7                  145  \n",
      "44966          4.0                  158  \n",
      "13568          5.0                  100  \n",
      "92727          4.5                   85  \n",
      "51349          5.7                  126  \n",
      "86979          5.7                  140  \n",
      "3806           7.0                  130  \n",
      "91822          6.2                  200  \n",
      "6006           6.6                  100  \n",
      "55086          6.6                   85  \n",
      "44204          6.1                  100  \n",
      "32409          6.5                  130  \n",
      "88994          4.8                  158  \n",
      "8138           6.5                  155  \n",
      "\n",
      "\n",
      "\n",
      "\n",
      "       gender   age  hypertension  heart_disease smoking_history    bmi  \\\n",
      "75721  Female  13.0             0              0         No Info  20.82   \n",
      "80184  Female   3.0             0              0         No Info  21.00   \n",
      "19864    Male  63.0             0              0          former  25.32   \n",
      "76699  Female   2.0             0              0           never  17.43   \n",
      "92991  Female  33.0             0              0     not current  40.08   \n",
      "76434  Female  70.0             0              0           never  23.89   \n",
      "84004  Female  51.0             0              0         current  27.32   \n",
      "80917  Female  12.0             0              0         No Info  27.32   \n",
      "60767  Female  45.0             0              0         No Info  27.32   \n",
      "50074  Female  19.0             0              0          former  27.32   \n",
      "27701  Female  30.0             0              0          former  32.04   \n",
      "42141  Female  43.0             0              0           never  22.53   \n",
      "45080    Male  60.0             0              0          former  27.32   \n",
      "16638  Female  27.0             0              0         No Info  27.32   \n",
      "20424  Female  39.0             0              0            ever  34.94   \n",
      "\n",
      "       HbA1c_level  blood_glucose_level  \n",
      "75721          5.8                  126  \n",
      "80184          5.0                  145  \n",
      "19864          3.5                  200  \n",
      "76699          6.1                  126  \n",
      "92991          6.2                  200  \n",
      "76434          6.5                  200  \n",
      "84004          5.0                  158  \n",
      "80917          4.8                  158  \n",
      "60767          6.2                  145  \n",
      "50074          6.2                   90  \n",
      "27701          5.0                  130  \n",
      "42141          6.5                   90  \n",
      "45080          4.5                   80  \n",
      "16638          6.0                  200  \n",
      "20424          4.5                  130  \n",
      "\n",
      "\n",
      "\n",
      "\n",
      "75220    0\n",
      "48955    1\n",
      "44966    0\n",
      "13568    0\n",
      "92727    0\n",
      "51349    0\n",
      "86979    0\n",
      "3806     1\n",
      "91822    0\n",
      "6006     0\n",
      "55086    0\n",
      "44204    0\n",
      "32409    0\n",
      "88994    0\n",
      "8138     0\n",
      "Name: diabetes, dtype: int64\n",
      "\n",
      "\n",
      "\n",
      "\n",
      "75721    0\n",
      "80184    0\n",
      "19864    0\n",
      "76699    0\n",
      "92991    1\n",
      "76434    0\n",
      "84004    0\n",
      "80917    0\n",
      "60767    0\n",
      "50074    0\n",
      "27701    0\n",
      "42141    0\n",
      "45080    0\n",
      "16638    0\n",
      "20424    0\n",
      "Name: diabetes, dtype: int64\n"
     ]
    }
   ],
   "source": [
    "X_train, X_test, Y_train, Y_test = train_test_split(X, Y, test_size=0.2, random_state=42)\n",
    "print(X_train.head(15))\n",
    "print(\"\\n\\n\\n\")\n",
    "print(X_test.head(15))\n",
    "print(\"\\n\\n\\n\")\n",
    "print(Y_train.head(15))\n",
    "print(\"\\n\\n\\n\")\n",
    "print(Y_test.head(15))"
   ]
  },
  {
   "cell_type": "code",
   "execution_count": 31,
   "id": "6db5125f",
   "metadata": {},
   "outputs": [
    {
     "name": "stdout",
     "output_type": "stream",
     "text": [
      "Column 'gender' has 3 unique values:\n",
      "['Female' 'Male' 'Other']\n",
      "\n",
      "\n",
      "Column 'age' has a range from 0.08 to 80.0\n",
      "\n",
      "\n",
      "Column 'hypertension' has a range from 0 to 1\n",
      "\n",
      "\n",
      "Column 'heart_disease' has a range from 0 to 1\n",
      "\n",
      "\n",
      "Column 'smoking_history' has 6 unique values:\n",
      "['never' 'No Info' 'current' 'former' 'ever' 'not current']\n",
      "\n",
      "\n",
      "Column 'bmi' has a range from 10.01 to 95.69\n",
      "\n",
      "\n",
      "Column 'HbA1c_level' has a range from 3.5 to 9.0\n",
      "\n",
      "\n",
      "Column 'blood_glucose_level' has a range from 80 to 300\n",
      "\n",
      "\n",
      "Column 'diabetes' has a range from 0 to 1\n",
      "\n",
      "\n"
     ]
    }
   ],
   "source": [
    "for column in data.columns:\n",
    "    if data[column].dtype == 'object':\n",
    "        unique_values = data[column].unique()\n",
    "        print(f\"Column '{column}' has {len(unique_values)} unique values:\")\n",
    "        print(unique_values)\n",
    "        print(\"\\n\")\n",
    "    else:\n",
    "        min_value = data[column].min()\n",
    "        max_value = data[column].max()\n",
    "        print(f\"Column '{column}' has a range from {min_value} to {max_value}\")\n",
    "        print(\"\\n\")"
   ]
  },
  {
   "cell_type": "code",
   "execution_count": 32,
   "id": "7a0af30d",
   "metadata": {},
   "outputs": [
    {
     "name": "stdout",
     "output_type": "stream",
     "text": [
      "X_train_encoded shape: (80000, 7)\n",
      "X_test_encoded shape: (20000, 7)\n",
      "\n",
      "\n",
      "\n"
     ]
    },
    {
     "data": {
      "text/plain": [
       "array([[1., 0., 0., ..., 1., 0., 0.],\n",
       "       [1., 0., 0., ..., 0., 1., 0.],\n",
       "       [0., 0., 0., ..., 0., 0., 0.],\n",
       "       ...,\n",
       "       [1., 0., 0., ..., 0., 1., 0.],\n",
       "       [0., 0., 0., ..., 0., 1., 0.],\n",
       "       [0., 0., 0., ..., 0., 1., 0.]])"
      ]
     },
     "execution_count": 32,
     "metadata": {},
     "output_type": "execute_result"
    }
   ],
   "source": [
    "from sklearn.preprocessing import OneHotEncoder\n",
    "ohe = OneHotEncoder(sparse=False, drop='first') # drop=first ki wajah se final me 15 nahi 13 hi aa rhe (80000,13) ka array\n",
    "X_train_encoded = ohe.fit_transform(X_train[['gender', 'smoking_history']])\n",
    "X_test_encoded = ohe.transform(X_test[['gender', 'smoking_history']])\n",
    "\n",
    "print(\"X_train_encoded shape:\", X_train_encoded.shape)\n",
    "print(\"X_test_encoded shape:\", X_test_encoded.shape)\n",
    "print(\"\\n\\n\")\n",
    "X_train_encoded\n"
   ]
  },
  {
   "cell_type": "code",
   "execution_count": 33,
   "id": "3293c068",
   "metadata": {},
   "outputs": [
    {
     "name": "stdout",
     "output_type": "stream",
     "text": [
      "\n",
      "\n"
     ]
    },
    {
     "data": {
      "text/plain": [
       "(20000, 13)"
      ]
     },
     "execution_count": 33,
     "metadata": {},
     "output_type": "execute_result"
    }
   ],
   "source": [
    "X_train_remain = X_train.drop(columns=['gender', 'smoking_history']).values\n",
    "X_test_remain = X_test.drop(columns=['gender', 'smoking_history']).values\n",
    "X_train_remain.shape\n",
    "\n",
    "X_train2 = np.concatenate((X_train_remain, X_train_encoded), axis=1)\n",
    "X_train2.shape\n",
    "print(\"\\n\")\n",
    "X_test2 = np.concatenate((X_test_remain, X_test_encoded), axis=1)\n",
    "X_test2.shape"
   ]
  },
  {
   "cell_type": "code",
   "execution_count": 34,
   "id": "0cbd2907",
   "metadata": {},
   "outputs": [
    {
     "name": "stdout",
     "output_type": "stream",
     "text": [
      "[[ 73.     0.     0.    24.77   3.5   80.     1.     0.     0.     0.\n",
      "    1.     0.     0.  ]\n",
      " [ 80.     0.     0.    24.6    5.7  145.     1.     0.     0.     0.\n",
      "    0.     1.     0.  ]\n",
      " [ 38.     0.     0.    24.33   4.   158.     0.     0.     0.     1.\n",
      "    0.     0.     0.  ]\n",
      " [ 26.     0.     0.    18.87   5.   100.     0.     0.     0.     0.\n",
      "    0.     0.     1.  ]\n",
      " [ 61.     1.     0.    22.11   4.5   85.     0.     0.     1.     0.\n",
      "    0.     0.     0.  ]\n",
      " [ 34.     0.     0.    19.46   5.7  126.     0.     0.     0.     0.\n",
      "    0.     1.     0.  ]\n",
      " [ 42.     0.     0.    27.32   5.7  140.     0.     0.     0.     0.\n",
      "    1.     0.     0.  ]\n",
      " [ 51.     0.     0.    27.32   7.   130.     1.     0.     0.     0.\n",
      "    0.     1.     0.  ]\n",
      " [ 20.     0.     0.    21.37   6.2  200.     0.     0.     1.     0.\n",
      "    0.     0.     0.  ]\n",
      " [ 10.     0.     0.    17.7    6.6  100.     1.     0.     0.     0.\n",
      "    0.     0.     0.  ]]\n"
     ]
    }
   ],
   "source": [
    "print(X_train2[:10])"
   ]
  },
  {
   "cell_type": "code",
   "execution_count": 35,
   "id": "3f064f17",
   "metadata": {
    "scrolled": true
   },
   "outputs": [
    {
     "data": {
      "text/plain": [
       "(80000, 13)"
      ]
     },
     "execution_count": 35,
     "metadata": {},
     "output_type": "execute_result"
    }
   ],
   "source": [
    "from sklearn.preprocessing import StandardScaler\n",
    "\n",
    "scaler = StandardScaler()\n",
    "X_train_scaled = scaler.fit_transform(X_train2)\n",
    "X_test_scaled = scaler.transform(X_test2)\n",
    "X_train_scaled.shape"
   ]
  },
  {
   "cell_type": "code",
   "execution_count": 36,
   "id": "0b72b4ec",
   "metadata": {},
   "outputs": [],
   "source": [
    "import math\n",
    "\n",
    "def sigmoid(z):\n",
    "    return 1 / (1 + np.exp(-z))\n",
    "\n",
    "class LogisticRegression:\n",
    "\n",
    "    def initialise(self, learning_rate=0.01, num_iterations=1000):\n",
    "        self.learning_rate = learning_rate\n",
    "        self.num_iterations = num_iterations\n",
    "        self.w = None\n",
    "        self.b = None\n",
    "\n",
    "    def fit(self, X, Y):\n",
    "        num_samples, num_features = X.shape\n",
    "        self.w = np.zeros(num_features)\n",
    "        self.b = 0\n",
    "\n",
    "        for _ in range(self.num_iterations):\n",
    "            linear_pred = np.dot(X, self.w) + self.b\n",
    "            predictions = sigmoid(linear_pred)\n",
    "\n",
    "            dw = (1/num_samples) * np.dot(X.T, (predictions - Y))\n",
    "            db = (1/num_samples) * np.sum(predictions - Y)\n",
    "\n",
    "            self.w -= self.learning_rate * dw\n",
    "            self.b -= self.learning_rate * db\n",
    "\n",
    "    def predict(self, X):\n",
    "        linear_pred = np.dot(X, self.w) + self.b\n",
    "        y_pred = sigmoid(linear_pred)\n",
    "        predictions = [1 if y >= 0.5 else 0 for y in y_pred]\n",
    "        return predictions\n"
   ]
  },
  {
   "cell_type": "code",
   "execution_count": 37,
   "id": "e02bd76e",
   "metadata": {},
   "outputs": [
    {
     "name": "stdout",
     "output_type": "stream",
     "text": [
      "Training Accuracy : 95.1275%\n",
      "Test  Accuracy : 94.99%\n"
     ]
    }
   ],
   "source": [
    "lr = LogisticRegression(learning_rate=0.01, num_iterations=1000)\n",
    "\n",
    "lr.fit(X_train_scaled, Y_train)\n",
    "\n",
    "train_predictions = lr.predict(X_train_scaled)\n",
    "test_predictions = lr.predict(X_test_scaled)\n",
    "\n",
    "from sklearn.metrics import accuracy_score\n",
    "\n",
    "train_accuracy = accuracy_score(Y_train, train_predictions)\n",
    "test_accuracy = accuracy_score(Y_test, test_predictions)\n",
    "\n",
    "print(f\"Training Accuracy : {train_accuracy*100}%\")\n",
    "print(f\"Test  Accuracy : {test_accuracy*100}%\")\n"
   ]
  },
  {
   "cell_type": "code",
   "execution_count": 38,
   "id": "90bfdaa4",
   "metadata": {},
   "outputs": [
    {
     "data": {
      "image/png": "[encoded data removed]",
      "text/plain": [
       "<Figure size 800x600 with 1 Axes>"
      ]
     },
     "metadata": {},
     "output_type": "display_data"
    }
   ],
   "source": [
    "cm = confusion_matrix(Y_test, test_predictions)\n",
    "\n",
    "plt.figure(figsize=(8, 6))\n",
    "sns.set(font_scale=1.4)\n",
    "sns.heatmap(cm, annot=True, fmt='g', cmap=\"Blues\", cbar=False,\n",
    "            annot_kws={\"size\": 16}, linewidths=0.5)\n",
    "plt.xlabel('Predicted labels')\n",
    "plt.ylabel('True labels')\n",
    "plt.title('Confusion Matrix')\n",
    "plt.show()\n"
   ]
  }
 ],
 "metadata": {
  "kernelspec": {
   "display_name": "Python 3 (ipykernel)",
   "language": "python",
   "name": "python3"
  },
  "language_info": {
   "codemirror_mode": {
    "name": "ipython",
    "version": 3
   },
   "file_extension": ".py",
   "mimetype": "text/x-python",
   "name": "python",
   "nbconvert_exporter": "python",
   "pygments_lexer": "ipython3",
   "version": "3.9.13"
  }
 },
 "nbformat": 4,
 "nbformat_minor": 5
}
