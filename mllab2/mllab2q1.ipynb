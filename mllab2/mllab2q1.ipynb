{
 "cells": [
  {
   "cell_type": "code",
   "execution_count": 32,
   "id": "9a928f73",
   "metadata": {},
   "outputs": [],
   "source": [
    "import numpy as np\n",
    "import matplotlib.pyplot as plt"
   ]
  },
  {
   "cell_type": "code",
   "execution_count": 33,
   "id": "6730bade",
   "metadata": {},
   "outputs": [
    {
     "name": "stdout",
     "output_type": "stream",
     "text": [
      "X: 0.000000  1.000000  2.000000  3.000000  1.000000  1.500000\n",
      "Y: 1.000000  2.000000  1.500000  2.000000  1.000000  2.000000\n"
     ]
    }
   ],
   "source": [
    "X = np.array([0,1,2,3,1,1.5])\n",
    "Y = np.array([1,2,1.5,2,1,2])\n",
    "\n",
    "print(\"X:\", \"  \".join(f\"{x_val:2f}\" for x_val in X))\n",
    "print(\"Y:\", \"  \".join(f\"{y_val:2f}\" for y_val in Y))"
   ]
  },
  {
   "cell_type": "code",
   "execution_count": 34,
   "id": "73cc19fa",
   "metadata": {},
   "outputs": [],
   "source": [
    "A = np.zeros((3, 3))\n",
    "B = np.zeros(3)\n",
    "\n",
    "for xi, yi in zip(X, Y):\n",
    "    A[0, 0] += 1\n",
    "    A[0, 1] += xi\n",
    "    A[0, 2] += xi ** 2\n",
    "    A[1, 0] += xi\n",
    "    A[1, 1] += xi ** 2\n",
    "    A[1, 2] += xi ** 3\n",
    "    A[2, 0] += xi ** 2\n",
    "    A[2, 1] += xi ** 3\n",
    "    A[2, 2] += xi ** 4\n",
    "\n",
    "    B[0] += yi\n",
    "    B[1] += xi * yi\n",
    "    B[2] += xi ** 2 * yi"
   ]
  },
  {
   "cell_type": "code",
   "execution_count": 35,
   "id": "b5caac83",
   "metadata": {},
   "outputs": [],
   "source": [
    "x = np.linalg.solve(A, B)"
   ]
  },
  {
   "cell_type": "code",
   "execution_count": 36,
   "id": "f6b39ebf",
   "metadata": {},
   "outputs": [
    {
     "name": "stdout",
     "output_type": "stream",
     "text": [
      "Coefficients are:\n",
      "b0 = 1.028245614035088\n",
      "b1 = 0.5805263157894734\n",
      "b2 = -0.09298245614035087\n"
     ]
    }
   ],
   "source": [
    "print(\"Coefficients are:\")\n",
    "print(\"b0 =\", x[0])\n",
    "print(\"b1 =\", x[1])\n",
    "print(\"b2 =\", x[2])\n"
   ]
  },
  {
   "cell_type": "code",
   "execution_count": 37,
   "id": "fc505b17",
   "metadata": {
    "scrolled": true
   },
   "outputs": [
    {
     "name": "stdout",
     "output_type": "stream",
     "text": [
      "Equation is:\n",
      "y = 1.028245614035088 + 0.5805263157894734 * x + -0.09298245614035087 * x^2\n"
     ]
    }
   ],
   "source": [
    "print(\"Equation is:\")\n",
    "print(\"y =\", x[0], \"+\", x[1], \"* x +\", x[2], \"* x^2\")"
   ]
  },
  {
   "cell_type": "code",
   "execution_count": 38,
   "id": "7e61986e",
   "metadata": {},
   "outputs": [
    {
     "name": "stdout",
     "output_type": "stream",
     "text": [
      "Residual sum square error is:  0.702719298245614\n"
     ]
    }
   ],
   "source": [
    "predicted_Y = x[0] + x[1] * X + x[2] * X**2\n",
    "err = np.sum((predicted_Y - Y) ** 2)\n",
    "print(\"Residual sum square error is: \", err)"
   ]
  },
  {
   "cell_type": "code",
   "execution_count": 49,
   "id": "d0cc4b6b",
   "metadata": {},
   "outputs": [
    {
     "data": {
      "image/png": "[encoded data removed]",
      "text/plain": [
       "<Figure size 640x480 with 1 Axes>"
      ]
     },
     "metadata": {},
     "output_type": "display_data"
    }
   ],
   "source": [
    "#predicted_Y = x[0] + x[1] * X + x[2] * X**2\n",
    "#plt.scatter(X, Y, label='Data Points')\n",
    "#plt.plot(X, predicted_Y, color='red', label='Regression Curve')\n",
    "#plt.xlabel('X')\n",
    "#plt.ylabel('Y')\n",
    "#plt.title('Polynomial Regression')\n",
    "#plt.legend()\n",
    "#plt.show()\n",
    "p = np.poly1d( np.polyfit(X, Y, 2) )\n",
    "t = np.linspace(0, 3, 6)\n",
    "plt.plot(X, Y, 'o', t, p(t), '-')\n",
    "plt.show()"
   ]
  },
  {
   "cell_type": "code",
   "execution_count": null,
   "id": "99d59de1",
   "metadata": {},
   "outputs": [],
   "source": []
  }
 ],
 "metadata": {
  "kernelspec": {
   "display_name": "Python 3 (ipykernel)",
   "language": "python",
   "name": "python3"
  },
  "language_info": {
   "codemirror_mode": {
    "name": "ipython",
    "version": 3
   },
   "file_extension": ".py",
   "mimetype": "text/x-python",
   "name": "python",
   "nbconvert_exporter": "python",
   "pygments_lexer": "ipython3",
   "version": "3.9.13"
  }
 },
 "nbformat": 4,
 "nbformat_minor": 5
}
