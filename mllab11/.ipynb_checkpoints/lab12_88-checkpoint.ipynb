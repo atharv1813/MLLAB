{
 "cells": [
  {
   "cell_type": "markdown",
   "id": "7d82c371",
   "metadata": {},
   "source": [
    "# Q.1"
   ]
  },
  {
   "cell_type": "code",
   "execution_count": 5,
   "id": "128fd29e",
   "metadata": {},
   "outputs": [
    {
     "name": "stdout",
     "output_type": "stream",
     "text": [
      "Training with learning rate: 0.5\n",
      "Final output after training:\n",
      "[[0.10017055 0.60207291]]\n",
      "\n",
      "\n",
      "Training with learning rate: 0.1\n",
      "Final output after training:\n",
      "[[0.09140714 0.60051907]]\n",
      "\n",
      "\n",
      "Training with learning rate: 0.01\n",
      "Final output after training:\n",
      "[[0.09065024 0.60045178]]\n",
      "\n",
      "\n"
     ]
    }
   ],
   "source": [
    "import numpy as np\n",
    "\n",
    "def sigmoid(x):\n",
    "    return 1 / (1 + np.exp(-x))\n",
    "\n",
    "def sigmoid_derivative(x):\n",
    "    return x * (1 - x)\n",
    "\n",
    "inputs = np.array([[0.3, 0.8]])\n",
    "outputs = np.array([[0.05, 0.6]])\n",
    "\n",
    "np.random.seed(0)  \n",
    "input_weights = np.random.rand(2, 2)  \n",
    "hidden_weights = np.random.rand(2, 2) \n",
    "input_bias = np.ones((1, 2))\n",
    "hidden_bias = np.ones((1, 2))\n",
    "\n",
    "learning_rates = [0.5, 0.1, 0.01]\n",
    "\n",
    "for learning_rate in learning_rates:\n",
    "    print(f\"Training with learning rate: {learning_rate}\")\n",
    "    \n",
    "    for epoch in range(100):\n",
    "        input_layer = inputs\n",
    "        hidden_layer_input = np.dot(input_layer, input_weights) + input_bias\n",
    "        hidden_layer_output = sigmoid(hidden_layer_input)\n",
    "        output_layer_input = np.dot(hidden_layer_output, hidden_weights) + hidden_bias\n",
    "        output_layer_output = sigmoid(output_layer_input)\n",
    "\n",
    "        error = outputs - output_layer_output\n",
    "        d_output = error * sigmoid_derivative(output_layer_output)\n",
    "\n",
    "        error_hidden = d_output.dot(hidden_weights.T)\n",
    "        d_hidden = error_hidden * sigmoid_derivative(hidden_layer_output)\n",
    "\n",
    "        hidden_weights += hidden_layer_output.T.dot(d_output) * learning_rate\n",
    "        input_weights += input_layer.T.dot(d_hidden) * learning_rate\n",
    "        hidden_bias += np.sum(d_output, axis=0, keepdims=True) * learning_rate\n",
    "        input_bias += np.sum(d_hidden, axis=0, keepdims=True) * learning_rate\n",
    "\n",
    "    print(\"Final output after training:\")\n",
    "    print(output_layer_output)\n",
    "    print(\"\\n\")"
   ]
  },
  {
   "cell_type": "markdown",
   "id": "1702ce0f",
   "metadata": {},
   "source": [
    "# Q.2"
   ]
  },
  {
   "cell_type": "code",
   "execution_count": 6,
   "id": "75cd97ee",
   "metadata": {
    "scrolled": true
   },
   "outputs": [
    {
     "name": "stdout",
     "output_type": "stream",
     "text": [
      "1/1 [==============================] - 0s 37ms/step\n",
      "Learning rate: 0.5\n",
      "Final output after training:\n",
      "[[0.05000125 0.59999996]]\n",
      "\n",
      "\n",
      "1/1 [==============================] - 0s 41ms/step\n",
      "Learning rate: 0.1\n",
      "Final output after training:\n",
      "[[0.05000125 0.59999996]]\n",
      "\n",
      "\n",
      "1/1 [==============================] - 0s 38ms/step\n",
      "Learning rate: 0.01\n",
      "Final output after training:\n",
      "[[0.05000125 0.59999996]]\n",
      "\n",
      "\n"
     ]
    }
   ],
   "source": [
    "import numpy as np\n",
    "#!pip install tensorflow\n",
    "from tensorflow import keras\n",
    "from tensorflow.keras import layers\n",
    "\n",
    "model = keras.Sequential([\n",
    "    layers.Input(2),\n",
    "    layers.Dense(2, activation='sigmoid', use_bias=True, bias_initializer='ones', name='hidden_layer'),\n",
    "    layers.Dense(2, activation='sigmoid', use_bias=True, bias_initializer='ones', name='output_layer')\n",
    "])\n",
    "\n",
    "learning_rates = [0.5, 0.1, 0.01]\n",
    "for lr in learning_rates:\n",
    "    optimizer = keras.optimizers.SGD(learning_rate=lr)\n",
    "    model.compile(optimizer=optimizer, loss='mean_squared_error')\n",
    "\n",
    "    history = model.fit(np.array([[0.3, 0.8]]), np.array([[0.05, 0.6]]), epochs=10000, verbose=0)\n",
    "\n",
    "    output = model.predict(np.array([[0.3, 0.8]]))\n",
    "    print(f\"Learning rate: {lr}\")\n",
    "    print(\"Final output after training:\")\n",
    "    print(output)\n",
    "    print(\"\\n\")"
   ]
  },
  {
   "cell_type": "code",
   "execution_count": null,
   "id": "10d0d84d",
   "metadata": {},
   "outputs": [],
   "source": []
  }
 ],
 "metadata": {
  "kernelspec": {
   "display_name": "Python 3 (ipykernel)",
   "language": "python",
   "name": "python3"
  },
  "language_info": {
   "codemirror_mode": {
    "name": "ipython",
    "version": 3
   },
   "file_extension": ".py",
   "mimetype": "text/x-python",
   "name": "python",
   "nbconvert_exporter": "python",
   "pygments_lexer": "ipython3",
   "version": "3.9.13"
  }
 },
 "nbformat": 4,
 "nbformat_minor": 5
}
