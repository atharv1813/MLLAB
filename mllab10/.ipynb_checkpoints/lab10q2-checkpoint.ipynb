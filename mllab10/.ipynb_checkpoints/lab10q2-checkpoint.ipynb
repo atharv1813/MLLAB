{
 "cells": [
  {
   "cell_type": "code",
   "execution_count": 9,
   "id": "fd32b08b",
   "metadata": {},
   "outputs": [],
   "source": [
    "import numpy as np"
   ]
  },
  {
   "cell_type": "code",
   "execution_count": 10,
   "id": "22f8a638",
   "metadata": {},
   "outputs": [],
   "source": [
    "np.random.seed(0)\n",
    "num_samples = 1000\n",
    "num_features = 5\n",
    "data = np.random.rand(num_samples, num_features)\n",
    "labels = (data.sum(axis=1) > num_features / 2).astype(int)"
   ]
  },
  {
   "cell_type": "code",
   "execution_count": 11,
   "id": "fec6c102",
   "metadata": {},
   "outputs": [],
   "source": [
    "input_size = num_features\n",
    "hidden_size = 10  \n",
    "output_size = 1  "
   ]
  },
  {
   "cell_type": "code",
   "execution_count": 12,
   "id": "7d7630ae",
   "metadata": {},
   "outputs": [],
   "source": [
    "def initialize_parameters(input_size, hidden_size, output_size):\n",
    "    np.random.seed(1)\n",
    "    weights_input_hidden = np.random.randn(input_size, hidden_size)\n",
    "    bias_hidden = np.zeros((1, hidden_size))\n",
    "    weights_hidden_output = np.random.randn(hidden_size, output_size)\n",
    "    bias_output = np.zeros((1, output_size))\n",
    "    return weights_input_hidden, bias_hidden, weights_hidden_output, bias_output\n",
    "\n",
    "weights_input_hidden, bias_hidden, weights_hidden_output, bias_output = initialize_parameters(input_size, hidden_size, output_size)\n",
    "\n",
    "def sigmoid(x):\n",
    "    return 1 / (1 + np.exp(-x))\n",
    "\n",
    "def forward_pass(data, labels, weights_input_hidden, bias_hidden, weights_hidden_output, bias_output):\n",
    "    z_hidden = np.dot(data, weights_input_hidden) + bias_hidden\n",
    "    a_hidden = sigmoid(z_hidden)\n",
    "\n",
    "    z_output = np.dot(a_hidden, weights_hidden_output) + bias_output\n",
    "    a_output = sigmoid(z_output)\n",
    "\n",
    "    loss = -np.mean(labels * np.log(a_output) + (1 - labels) * np.log(1 - a_output))\n",
    "\n",
    "    return loss, a_output"
   ]
  },
  {
   "cell_type": "code",
   "execution_count": 13,
   "id": "3674f56f",
   "metadata": {},
   "outputs": [
    {
     "name": "stdout",
     "output_type": "stream",
     "text": [
      "Cross-entropy loss: 0.8860264103989405\n"
     ]
    }
   ],
   "source": [
    "loss, predicted_probabilities = forward_pass(data, labels, weights_input_hidden, bias_hidden, weights_hidden_output, bias_output)\n",
    "\n",
    "print(\"Cross-entropy loss:\", loss)"
   ]
  },
  {
   "cell_type": "code",
   "execution_count": null,
   "id": "d9182ce1",
   "metadata": {},
   "outputs": [],
   "source": []
  },
  {
   "cell_type": "code",
   "execution_count": null,
   "id": "baaf8f43",
   "metadata": {},
   "outputs": [],
   "source": []
  },
  {
   "cell_type": "code",
   "execution_count": null,
   "id": "5ab2c9f4",
   "metadata": {},
   "outputs": [],
   "source": []
  }
 ],
 "metadata": {
  "kernelspec": {
   "display_name": "Python 3 (ipykernel)",
   "language": "python",
   "name": "python3"
  },
  "language_info": {
   "codemirror_mode": {
    "name": "ipython",
    "version": 3
   },
   "file_extension": ".py",
   "mimetype": "text/x-python",
   "name": "python",
   "nbconvert_exporter": "python",
   "pygments_lexer": "ipython3",
   "version": "3.9.13"
  }
 },
 "nbformat": 4,
 "nbformat_minor": 5
}
